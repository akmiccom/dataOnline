{
 "cells": [
  {
   "cell_type": "code",
   "execution_count": 43,
   "metadata": {},
   "outputs": [],
   "source": [
    "import pandas as pd\n",
    "from glob import glob"
   ]
  },
  {
   "cell_type": "code",
   "execution_count": 44,
   "metadata": {},
   "outputs": [
    {
     "data": {
      "text/plain": [
       "148"
      ]
     },
     "execution_count": 44,
     "metadata": {},
     "output_type": "execute_result"
    }
   ],
   "source": [
    "csv_files = glob('../csv/EXA_FIRST_マイジャグラーV_*.csv')\n",
    "len(csv_files)"
   ]
  },
  {
   "cell_type": "code",
   "execution_count": 45,
   "metadata": {},
   "outputs": [
    {
     "data": {
      "text/plain": [
       "(11988, 8)"
      ]
     },
     "execution_count": 45,
     "metadata": {},
     "output_type": "execute_result"
    }
   ],
   "source": [
    "dataframes = []\n",
    "for csv_file in csv_files:\n",
    "    df = pd.read_csv(csv_file, encoding=\"utf-8-sig\")\n",
    "    dataframes.append(df)\n",
    "\n",
    "# すべてのデータを結合したい場合\n",
    "if dataframes:\n",
    "    df = pd.concat(dataframes, ignore_index=True)\n",
    "df.shape\n"
   ]
  },
  {
   "cell_type": "code",
   "execution_count": 46,
   "metadata": {},
   "outputs": [],
   "source": [
    "df.to_csv('../analysis_data.csv', index=False)"
   ]
  },
  {
   "cell_type": "code",
   "execution_count": 47,
   "metadata": {},
   "outputs": [],
   "source": [
    "df[\"G数\"] = (\n",
    "    df[\"G数\"]\n",
    "    .astype(str)               # 文字列型に変換\n",
    "    .str.replace(\",\", \"\", regex=True)  # カンマを削除\n",
    "    .str.extract(r\"(\\d+)\")     # 数字部分のみ抽出\n",
    "    .dropna()                  # NaNを削除\n",
    "    .astype(int)               # 整数型に変換\n",
    ")\n",
    "df[\"差枚\"] = (\n",
    "    df[\"差枚\"]\n",
    "    .astype(str)               # 文字列型に変換\n",
    "    .str.replace(\",\", \"\", regex=True)  # カンマを削除\n",
    "    .str.extract(r\"(\\d+)\")     # 数字部分のみ抽出\n",
    "    .dropna()                  # NaNを削除\n",
    "    .astype(int)               # 整数型に変換\n",
    ")\n",
    "df[\"合成確率\"] = (\n",
    "    df[\"合成確率\"]\n",
    "    .astype(str)               # 文字列型に変換\n",
    "    .str.replace(\"1/\", \"\", regex=True)  # カンマを削除\n",
    "    .str.extract(r\"(\\d+)\")     # 数字部分のみ抽出\n",
    "    .dropna()                  # NaNを削除\n",
    "    .astype(int)               # 整数型に変換\n",
    ")\n",
    "df[\"BB確率\"] = (\n",
    "    df[\"BB確率\"]\n",
    "    .astype(str)               # 文字列型に変換\n",
    "    .str.replace(\"1/\", \"\", regex=True)  # カンマを削除\n",
    "    .str.extract(r\"(\\d+)\")     # 数字部分のみ抽出\n",
    "    .dropna()                  # NaNを削除\n",
    "    .astype(int)               # 整数型に変換\n",
    ")\n",
    "df[\"RB確率\"] = (\n",
    "    df[\"RB確率\"]\n",
    "    .astype(str)               # 文字列型に変換\n",
    "    .str.replace(\"1/\", \"\", regex=True)  # カンマを削除\n",
    "    .str.extract(r\"(\\d+)\")     # 数字部分のみ抽出\n",
    "    .dropna()                  # NaNを削除\n",
    "    .astype(int)               # 整数型に変換\n",
    ")\n"
   ]
  },
  {
   "cell_type": "code",
   "execution_count": 48,
   "metadata": {},
   "outputs": [
    {
     "data": {
      "text/html": [
       "<div>\n",
       "<style scoped>\n",
       "    .dataframe tbody tr th:only-of-type {\n",
       "        vertical-align: middle;\n",
       "    }\n",
       "\n",
       "    .dataframe tbody tr th {\n",
       "        vertical-align: top;\n",
       "    }\n",
       "\n",
       "    .dataframe thead th {\n",
       "        text-align: right;\n",
       "    }\n",
       "</style>\n",
       "<table border=\"1\" class=\"dataframe\">\n",
       "  <thead>\n",
       "    <tr style=\"text-align: right;\">\n",
       "      <th></th>\n",
       "      <th>台番号</th>\n",
       "      <th>G数</th>\n",
       "      <th>差枚</th>\n",
       "      <th>BB</th>\n",
       "      <th>RB</th>\n",
       "      <th>合成確率</th>\n",
       "      <th>BB確率</th>\n",
       "      <th>RB確率</th>\n",
       "    </tr>\n",
       "  </thead>\n",
       "  <tbody>\n",
       "    <tr>\n",
       "      <th>0</th>\n",
       "      <td>1001</td>\n",
       "      <td>5273</td>\n",
       "      <td>1512</td>\n",
       "      <td>16</td>\n",
       "      <td>9.0</td>\n",
       "      <td>210</td>\n",
       "      <td>329</td>\n",
       "      <td>585.0</td>\n",
       "    </tr>\n",
       "    <tr>\n",
       "      <th>1</th>\n",
       "      <td>1002</td>\n",
       "      <td>6086</td>\n",
       "      <td>168</td>\n",
       "      <td>21</td>\n",
       "      <td>19.0</td>\n",
       "      <td>152</td>\n",
       "      <td>289</td>\n",
       "      <td>320.0</td>\n",
       "    </tr>\n",
       "    <tr>\n",
       "      <th>2</th>\n",
       "      <td>1003</td>\n",
       "      <td>3371</td>\n",
       "      <td>1406</td>\n",
       "      <td>6</td>\n",
       "      <td>10.0</td>\n",
       "      <td>210</td>\n",
       "      <td>561</td>\n",
       "      <td>337.0</td>\n",
       "    </tr>\n",
       "    <tr>\n",
       "      <th>3</th>\n",
       "      <td>1004</td>\n",
       "      <td>6835</td>\n",
       "      <td>856</td>\n",
       "      <td>27</td>\n",
       "      <td>24.0</td>\n",
       "      <td>134</td>\n",
       "      <td>253</td>\n",
       "      <td>284.0</td>\n",
       "    </tr>\n",
       "    <tr>\n",
       "      <th>4</th>\n",
       "      <td>1005</td>\n",
       "      <td>3422</td>\n",
       "      <td>291</td>\n",
       "      <td>12</td>\n",
       "      <td>8.0</td>\n",
       "      <td>171</td>\n",
       "      <td>285</td>\n",
       "      <td>427.0</td>\n",
       "    </tr>\n",
       "  </tbody>\n",
       "</table>\n",
       "</div>"
      ],
      "text/plain": [
       "    台番号    G数    差枚  BB    RB  合成確率  BB確率   RB確率\n",
       "0  1001  5273  1512  16   9.0   210   329  585.0\n",
       "1  1002  6086   168  21  19.0   152   289  320.0\n",
       "2  1003  3371  1406   6  10.0   210   561  337.0\n",
       "3  1004  6835   856  27  24.0   134   253  284.0\n",
       "4  1005  3422   291  12   8.0   171   285  427.0"
      ]
     },
     "execution_count": 48,
     "metadata": {},
     "output_type": "execute_result"
    }
   ],
   "source": [
    "df.head()"
   ]
  },
  {
   "cell_type": "code",
   "execution_count": null,
   "metadata": {},
   "outputs": [
    {
     "ename": "ModuleNotFoundError",
     "evalue": "No module named 'ace_tools'",
     "output_type": "error",
     "traceback": [
      "\u001b[1;31m---------------------------------------------------------------------------\u001b[0m",
      "\u001b[1;31mModuleNotFoundError\u001b[0m                       Traceback (most recent call last)",
      "Cell \u001b[1;32mIn[42], line 11\u001b[0m\n\u001b[0;32m      8\u001b[0m machine_summary \u001b[38;5;241m=\u001b[39m machine_summary\u001b[38;5;241m.\u001b[39msort_values(\u001b[38;5;124m\"\u001b[39m\u001b[38;5;124m台番号\u001b[39m\u001b[38;5;124m\"\u001b[39m)\n\u001b[0;32m     10\u001b[0m \u001b[38;5;66;03m# 集計結果の表示\u001b[39;00m\n\u001b[1;32m---> 11\u001b[0m \u001b[38;5;28;01mimport\u001b[39;00m\u001b[38;5;250m \u001b[39m\u001b[38;5;21;01mace_tools\u001b[39;00m\u001b[38;5;250m \u001b[39m\u001b[38;5;28;01mas\u001b[39;00m\u001b[38;5;250m \u001b[39m\u001b[38;5;21;01mtools\u001b[39;00m\n\u001b[0;32m     12\u001b[0m \u001b[38;5;28;01mif\u001b[39;00m \u001b[38;5;124m\"\u001b[39m\u001b[38;5;124m日付\u001b[39m\u001b[38;5;124m\"\u001b[39m \u001b[38;5;129;01min\u001b[39;00m df\u001b[38;5;241m.\u001b[39mcolumns:\n\u001b[0;32m     13\u001b[0m     tools\u001b[38;5;241m.\u001b[39mdisplay_dataframe_to_user(name\u001b[38;5;241m=\u001b[39m\u001b[38;5;124m\"\u001b[39m\u001b[38;5;124m日付別差枚数集計\u001b[39m\u001b[38;5;124m\"\u001b[39m, dataframe\u001b[38;5;241m=\u001b[39mdaily_summary)\n",
      "\u001b[1;31mModuleNotFoundError\u001b[0m: No module named 'ace_tools'"
     ]
    }
   ],
   "source": [
    "\n",
    "# 日付別の差枚数集計（データに日付がある場合）\n",
    "if \"日付\" in df.columns:\n",
    "    daily_summary = df.groupby(\"日付\")[\"差枚\"].sum().reset_index()\n",
    "    daily_summary = daily_summary.sort_values(\"日付\")\n",
    "\n",
    "# 台番号別の差枚数集計\n",
    "machine_summary = df.groupby(\"台番号\")[\"差枚\"].sum().reset_index()\n",
    "machine_summary = machine_summary.sort_values(\"台番号\")\n",
    "\n",
    "# 集計結果の表示\n",
    "if \"日付\" in df.columns:\n",
    "    tools.display_dataframe_to_user(name=\"日付別差枚数集計\", dataframe=daily_summary)\n",
    "tools.display_dataframe_to_user(name=\"台番号別差枚数集計\", dataframe=machine_summary)\n"
   ]
  },
  {
   "cell_type": "code",
   "execution_count": null,
   "metadata": {},
   "outputs": [],
   "source": []
  }
 ],
 "metadata": {
  "kernelspec": {
   "display_name": ".venv",
   "language": "python",
   "name": "python3"
  },
  "language_info": {
   "codemirror_mode": {
    "name": "ipython",
    "version": 3
   },
   "file_extension": ".py",
   "mimetype": "text/x-python",
   "name": "python",
   "nbconvert_exporter": "python",
   "pygments_lexer": "ipython3",
   "version": "3.10.9"
  }
 },
 "nbformat": 4,
 "nbformat_minor": 2
}
