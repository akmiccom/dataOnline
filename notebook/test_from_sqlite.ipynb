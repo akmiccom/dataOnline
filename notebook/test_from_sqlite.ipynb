{
 "cells": [
  {
   "cell_type": "code",
   "execution_count": 8,
   "metadata": {},
   "outputs": [],
   "source": [
    "import sqlite3\n",
    "import pandas as pd\n",
    "\n",
    "# データベースに接続（なければ新規作成される）\n",
    "conn = sqlite3.connect(\"../db/anaslo.db\")\n",
    "\n",
    "# クエリでデータを抽出し、DataFrameとして読み込み\n",
    "df = pd.read_sql(\"SELECT * FROM slot_data\", conn)\n",
    "\n",
    "query = \"\"\"\n",
    "SELECT *\n",
    "FROM slot_data\n",
    "WHERE machine_name = \"マイジャグラーV\"\n",
    "\"\"\"\n",
    "df = pd.read_sql(query, conn)\n",
    "df[\"date\"] = pd.to_datetime(df[\"date\"])\n",
    "\n",
    "# 接続終了\n",
    "conn.close()"
   ]
  },
  {
   "cell_type": "code",
   "execution_count": 9,
   "metadata": {},
   "outputs": [
    {
     "data": {
      "text/plain": [
       "<DatetimeArray>\n",
       "['2025-03-31 00:00:00', '2025-03-29 00:00:00', '2025-03-30 00:00:00',\n",
       " '2025-03-27 00:00:00', '2025-03-28 00:00:00', '2025-04-01 00:00:00',\n",
       " '2025-03-14 00:00:00', '2025-03-15 00:00:00', '2025-03-16 00:00:00',\n",
       " '2025-03-17 00:00:00', '2025-03-18 00:00:00', '2025-03-19 00:00:00',\n",
       " '2025-03-20 00:00:00', '2025-03-21 00:00:00', '2025-03-22 00:00:00',\n",
       " '2025-03-23 00:00:00', '2025-03-24 00:00:00', '2025-03-25 00:00:00',\n",
       " '2025-03-26 00:00:00']\n",
       "Length: 19, dtype: datetime64[ns]"
      ]
     },
     "execution_count": 9,
     "metadata": {},
     "output_type": "execute_result"
    }
   ],
   "source": [
    "df['date'].unique()"
   ]
  }
 ],
 "metadata": {
  "kernelspec": {
   "display_name": ".venv",
   "language": "python",
   "name": "python3"
  },
  "language_info": {
   "codemirror_mode": {
    "name": "ipython",
    "version": 3
   },
   "file_extension": ".py",
   "mimetype": "text/x-python",
   "name": "python",
   "nbconvert_exporter": "python",
   "pygments_lexer": "ipython3",
   "version": "3.10.9"
  }
 },
 "nbformat": 4,
 "nbformat_minor": 2
}
