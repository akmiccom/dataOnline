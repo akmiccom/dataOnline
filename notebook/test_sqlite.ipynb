{
 "cells": [
  {
   "cell_type": "code",
   "execution_count": 5,
   "metadata": {},
   "outputs": [],
   "source": [
    "import pandas as pd\n",
    "import sqlite3\n",
    "import os\n",
    "import glob"
   ]
  },
  {
   "cell_type": "code",
   "execution_count": 6,
   "metadata": {},
   "outputs": [],
   "source": [
    "CSV_FOLDER = \"../csv\"  # CSVファイルがあるフォルダ\n",
    "DB_PATH = \"../db/pachislo.db\"\n",
    "HALL_ID = 101262\n",
    "MODEL_NAME = \"SマイジャグラーⅤKD\""
   ]
  },
  {
   "cell_type": "code",
   "execution_count": 7,
   "metadata": {},
   "outputs": [],
   "source": [
    "# === テーブル作成 ===\n",
    "def create_table(conn):\n",
    "    cursor = conn.cursor()\n",
    "    cursor.execute(\"\"\"\n",
    "        CREATE TABLE IF NOT EXISTS slot_data (\n",
    "            date TEXT,\n",
    "            hall_id INTEGER,\n",
    "            model TEXT,\n",
    "            unit_no INTEGER,\n",
    "            start INTEGER,\n",
    "            bb INTEGER,\n",
    "            rb INTEGER,\n",
    "            art INTEGER,\n",
    "            max_medals INTEGER,\n",
    "            bb_rate TEXT,\n",
    "            rb_rate TEXT,\n",
    "            art_rate TEXT,\n",
    "            total_rate TEXT,\n",
    "            last_start INTEGER,\n",
    "            UNIQUE(date, unit_no)\n",
    "        )\n",
    "    \"\"\")\n",
    "    conn.commit()"
   ]
  },
  {
   "cell_type": "code",
   "execution_count": 8,
   "metadata": {},
   "outputs": [],
   "source": [
    "# === CSV → DB 挿入 ===\n",
    "def insert_csv_to_db(csv_file, conn):\n",
    "    date = os.path.basename(csv_file).split(\"_\")[-1].replace(\".csv\", \"\")\n",
    "    df = pd.read_csv(csv_file)\n",
    "\n",
    "    # 必要な列名を統一\n",
    "    df = df.rename(\n",
    "        columns={\n",
    "            \"台番号\": \"unit_no\",\n",
    "            \"累計スタート\": \"start\",\n",
    "            \"BB回数\": \"bb\",\n",
    "            \"RB回数\": \"rb\",\n",
    "            \"ART回数\": \"art\",\n",
    "            \"最大持玉\": \"max_medals\",\n",
    "            \"BB確率\": \"bb_rate\",\n",
    "            \"RB確率\": \"rb_rate\",\n",
    "            \"ART確率\": \"art_rate\",\n",
    "            \"合成確率\": \"total_rate\",\n",
    "            \"前日最終スタート\": \"last_start\",\n",
    "        }\n",
    "    )\n",
    "\n",
    "    df[\"date\"] = date\n",
    "    df[\"hall_id\"] = HALL_ID\n",
    "    df[\"model\"] = MODEL_NAME\n",
    "\n",
    "    expected_columns = [\n",
    "        \"date\",\n",
    "        \"hall_id\",\n",
    "        \"model\",\n",
    "        \"unit_no\",\n",
    "        \"start\",\n",
    "        \"bb\",\n",
    "        \"rb\",\n",
    "        \"art\",\n",
    "        \"max_medals\",\n",
    "        \"bb_rate\",\n",
    "        \"rb_rate\",\n",
    "        \"art_rate\",\n",
    "        \"total_rate\",\n",
    "        \"last_start\",\n",
    "    ]\n",
    "    \n",
    "    df = df[[col for col in expected_columns if col in df.columns]]\n",
    "    \n",
    "    cursor = conn.cursor()\n",
    "    for _, row in df.iterrows():\n",
    "        cursor.execute(\n",
    "            \"\"\"\n",
    "            INSERT OR IGNORE INTO slot_data (\n",
    "                date, hall_id, model, unit_no, start, bb, rb, art,\n",
    "                max_medals, bb_rate, rb_rate, art_rate, total_rate, last_start\n",
    "            ) VALUES (?, ?, ?, ?, ?, ?, ?, ?, ?, ?, ?, ?, ?, ?)\n",
    "        \"\"\",\n",
    "            tuple(row[col] for col in expected_columns),\n",
    "        )\n",
    "    conn.commit()"
   ]
  },
  {
   "cell_type": "code",
   "execution_count": 9,
   "metadata": {},
   "outputs": [
    {
     "name": "stdout",
     "output_type": "stream",
     "text": [
      "📥 インポート中: ../csv\\EXA_FIRST_SﾏｲｼﾞｬｸﾞﾗｰⅤKD_2025-03-18.csv\n",
      "📥 インポート中: ../csv\\EXA_FIRST_SﾏｲｼﾞｬｸﾞﾗｰⅤKD_2025-03-19.csv\n",
      "📥 インポート中: ../csv\\EXA_FIRST_SﾏｲｼﾞｬｸﾞﾗｰⅤKD_2025-03-20.csv\n",
      "📥 インポート中: ../csv\\EXA_FIRST_SﾏｲｼﾞｬｸﾞﾗｰⅤKD_2025-03-21.csv\n",
      "📥 インポート中: ../csv\\EXA_FIRST_SﾏｲｼﾞｬｸﾞﾗｰⅤKD_2025-03-22.csv\n",
      "📥 インポート中: ../csv\\EXA_FIRST_SﾏｲｼﾞｬｸﾞﾗｰⅤKD_2025-03-23.csv\n",
      "📥 インポート中: ../csv\\EXA_FIRST_SﾏｲｼﾞｬｸﾞﾗｰⅤKD_2025-03-24.csv\n",
      "📥 インポート中: ../csv\\EXA_FIRST_SﾏｲｼﾞｬｸﾞﾗｰⅤKD_2025-03-25.csv\n",
      "✅ 全CSVデータをDBに取り込みました！\n"
     ]
    }
   ],
   "source": [
    "# === 実行 ===\n",
    "def main():\n",
    "    conn = sqlite3.connect(DB_PATH)\n",
    "    create_table(conn)\n",
    "\n",
    "    csv_files = glob.glob(os.path.join(CSV_FOLDER, \"*.csv\"))\n",
    "    for file in csv_files:\n",
    "        print(f\"📥 インポート中: {file}\")\n",
    "        insert_csv_to_db(file, conn)\n",
    "\n",
    "    conn.close()\n",
    "    print(\"✅ 全CSVデータをDBに取り込みました！\")\n",
    "\n",
    "if __name__ == \"__main__\":\n",
    "    main()"
   ]
  },
  {
   "cell_type": "code",
   "execution_count": 10,
   "metadata": {},
   "outputs": [],
   "source": [
    "# DB確認とJSON出力\n",
    "df = pd.read_sql(\"SELECT * FROM slot_data\", sqlite3.connect(DB_PATH))\n",
    "df = df.drop_duplicates(subset=[\"unit_no\", \"date\"])\n",
    "df.to_json(\"C:/python/akmicWebApp/akmic-app_02/public/slot_data.json\", orient=\"records\", force_ascii=False)\n"
   ]
  },
  {
   "cell_type": "code",
   "execution_count": 11,
   "metadata": {},
   "outputs": [],
   "source": [
    "df_pivot = df.drop_duplicates(subset=[\"unit_no\", \"date\"])\n",
    "df_pivot = df_pivot.pivot(index=\"unit_no\", columns=\"date\", values=\"total_rate\")"
   ]
  },
  {
   "cell_type": "code",
   "execution_count": 12,
   "metadata": {},
   "outputs": [
    {
     "data": {
      "text/plain": [
       "(81, 8)"
      ]
     },
     "execution_count": 12,
     "metadata": {},
     "output_type": "execute_result"
    }
   ],
   "source": [
    "df_pivot.shape"
   ]
  },
  {
   "cell_type": "code",
   "execution_count": null,
   "metadata": {},
   "outputs": [],
   "source": []
  }
 ],
 "metadata": {
  "kernelspec": {
   "display_name": ".venv",
   "language": "python",
   "name": "python3"
  },
  "language_info": {
   "codemirror_mode": {
    "name": "ipython",
    "version": 3
   },
   "file_extension": ".py",
   "mimetype": "text/x-python",
   "name": "python",
   "nbconvert_exporter": "python",
   "pygments_lexer": "ipython3",
   "version": "3.10.9"
  }
 },
 "nbformat": 4,
 "nbformat_minor": 2
}
