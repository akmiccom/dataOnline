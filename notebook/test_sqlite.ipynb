{
 "cells": [
  {
   "cell_type": "code",
   "execution_count": 1,
   "metadata": {},
   "outputs": [],
   "source": [
    "import pandas as pd\n",
    "import sqlite3\n",
    "import os\n",
    "import glob"
   ]
  },
  {
   "cell_type": "code",
   "execution_count": 2,
   "metadata": {},
   "outputs": [],
   "source": [
    "CSV_FOLDER = \"../csv\"  # CSVファイルがあるフォルダ\n",
    "DB_PATH = \"../db/anaslo.db\"\n",
    "HALL_ID = 101262\n",
    "MODEL_NAME = \"マイジャグラーV\""
   ]
  },
  {
   "cell_type": "code",
   "execution_count": 3,
   "metadata": {},
   "outputs": [],
   "source": [
    "# -- 機種テーブル\n",
    "def create_machine_tabel(conn):\n",
    "    cursor = conn.cursor()\n",
    "    cursor.execute(\"\"\"\n",
    "        CREATE TABLE IF NOT EXISTS machines (\n",
    "            machine_id INTEGER PRIMARY KEY,\n",
    "            machine_name TEXT,\n",
    "            UNIQUE(machine_name)\n",
    "            )\n",
    "    \"\"\")\n",
    "    conn.commit()\n",
    "    \n",
    "# -- ホールテーブル\n",
    "def create_hall_tabel(conn):\n",
    "    cursor = conn.cursor()\n",
    "    cursor.execute(\"\"\"\n",
    "        CREATE TABLE IF NOT EXISTS halls (\n",
    "            hall_id INTEGER PRIMARY KEY,\n",
    "            hall_name TEXT,\n",
    "            UNIQUE(hall_name)\n",
    "            )\n",
    "    \"\"\")\n",
    "    conn.commit()\n",
    "\n",
    "# === テーブル作成 ===\n",
    "def create_table(conn):\n",
    "    cursor = conn.cursor()\n",
    "    cursor.execute(\"\"\"\n",
    "        CREATE TABLE IF NOT EXISTS slot_data (\n",
    "            hall_id INTEGER,\n",
    "            machine_name TEXT,\n",
    "            unit_no INTEGER,\n",
    "            date TEXT,\n",
    "            start INTEGER,\n",
    "            bb INTEGER,\n",
    "            rb INTEGER,\n",
    "            medals INTEGER,\n",
    "            bb_rate INTEGER,\n",
    "            rb_rate INTEGER,\n",
    "            total_rate INTEGER,\n",
    "            UNIQUE(date, unit_no)\n",
    "        )\n",
    "    \"\"\")\n",
    "    conn.commit()"
   ]
  },
  {
   "cell_type": "code",
   "execution_count": 4,
   "metadata": {},
   "outputs": [],
   "source": [
    "# === CSV → DB 挿入 ===\n",
    "expected_columns = [\n",
    "    \"hall_id\",\n",
    "    \"machine_name\",\n",
    "    \"unit_no\",\n",
    "    \"date\",\n",
    "    \"start\",\n",
    "    \"bb\",\n",
    "    \"rb\",\n",
    "    \"medals\",\n",
    "    \"bb_rate\",\n",
    "    \"rb_rate\",\n",
    "    \"total_rate\",\n",
    "]\n",
    "\n",
    "def csv_to_df(csv_file):\n",
    "    date = os.path.basename(csv_file).split(\"_\")[-1].replace(\".csv\", \"\")\n",
    "    df = pd.read_csv(csv_file)\n",
    "    df = df.rename(columns={\n",
    "        \"機種名\": \"machine_name\",\n",
    "        \"台番号\": \"unit_no\",\n",
    "        \"G数\": \"start\",\n",
    "        \"差枚\": \"medals\",\n",
    "        \"BB\": \"bb\",\n",
    "        \"RB\": \"rb\",\n",
    "        \"合成確率\": \"total_rate\",\n",
    "        \"BB確率\": \"bb_rate\",\n",
    "        \"RB確率\": \"rb_rate\",\n",
    "    })\n",
    "    df[\"date\"] = date\n",
    "    df[\"hall_id\"] = HALL_ID\n",
    "\n",
    "    df = df[[col for col in expected_columns if col in df.columns]]\n",
    "    df['medals'] = df['medals'].str.replace(\"+\", \"\")\n",
    "\n",
    "    # 数値変換用の共通処理\n",
    "    def extract_digits(series, prefix_remove=None):\n",
    "        series = series.astype(str).str.replace(\",\", \"\", regex=True)\n",
    "        if prefix_remove:\n",
    "            series = series.str.replace(prefix_remove, \"\", regex=True)\n",
    "        series = series.str.extract(r\"(\\d+)\").dropna().astype(int)\n",
    "        return series\n",
    "\n",
    "    df[\"start\"] = extract_digits(df[\"start\"])\n",
    "    df[\"bb\"] = extract_digits(df[\"bb\"])\n",
    "    df[\"rb\"] = extract_digits(df[\"rb\"])\n",
    "    df[\"medals\"] = extract_digits(df[\"medals\"])\n",
    "    df[\"total_rate\"] = extract_digits(df[\"total_rate\"], prefix_remove=\"1/\")\n",
    "    df[\"bb_rate\"] = extract_digits(df[\"bb_rate\"], prefix_remove=\"1/\")\n",
    "    df[\"rb_rate\"] = extract_digits(df[\"rb_rate\"], prefix_remove=\"1/\")\n",
    "    \n",
    "    return df\n"
   ]
  },
  {
   "cell_type": "code",
   "execution_count": 5,
   "metadata": {},
   "outputs": [],
   "source": [
    "def df_to_data_base(df):\n",
    "    conn = sqlite3.connect(DB_PATH)\n",
    "    create_table(conn)\n",
    "\n",
    "    cursor = conn.cursor()\n",
    "    for _, row in df.iterrows():\n",
    "        cursor.execute(\n",
    "            \"\"\"\n",
    "            INSERT OR IGNORE INTO slot_data (\n",
    "                hall_id, machine_name, unit_no, date, start, bb, rb,\n",
    "                medals, bb_rate, rb_rate, total_rate\n",
    "            ) VALUES (?, ?, ?, ?, ?, ?, ?, ?, ?, ?, ?)\n",
    "        \"\"\",\n",
    "            tuple(row[col] for col in expected_columns),\n",
    "        )\n",
    "    conn.commit()"
   ]
  },
  {
   "cell_type": "code",
   "execution_count": 6,
   "metadata": {},
   "outputs": [
    {
     "name": "stdout",
     "output_type": "stream",
     "text": [
      "📥 インポート中: ../csv\\EXA_FIRST_2025-03-29.csv\n",
      "📥 インポート中: ../csv\\EXA_FIRST_2025-03-30.csv\n",
      "📥 インポート中: ../csv\\EXA_FIRST_2025-03-31.csv\n",
      "✅ 全CSVデータをDBに取り込みました。\n"
     ]
    }
   ],
   "source": [
    "# === 実行 ===\n",
    "def main():\n",
    "    conn = sqlite3.connect(DB_PATH)\n",
    "    create_table(conn)\n",
    "\n",
    "    csv_files = glob.glob(os.path.join(CSV_FOLDER, \"EXA_FIRST_2025*.csv\"))\n",
    "    for file in csv_files:\n",
    "        print(f\"📥 インポート中: {file}\")\n",
    "        df = csv_to_df(file)\n",
    "        df_to_data_base(df)\n",
    "\n",
    "    conn.close()\n",
    "    print(\"✅ 全CSVデータをDBに取り込みました。\")\n",
    "    \n",
    "    # DB確認とJSON出力\n",
    "    df = pd.read_sql(\"SELECT * FROM slot_data\", sqlite3.connect(DB_PATH))\n",
    "    df = df.drop_duplicates(subset=[\"unit_no\", \"date\"])\n",
    "    df.to_json(\"C:/python/akmicWebApp/akmic-app_02/public/slot_data.json\", orient=\"records\", force_ascii=False)\n",
    "\n",
    "if __name__ == \"__main__\":\n",
    "    main()"
   ]
  },
  {
   "cell_type": "code",
   "execution_count": null,
   "metadata": {},
   "outputs": [],
   "source": [
    "\n"
   ]
  }
 ],
 "metadata": {
  "kernelspec": {
   "display_name": ".venv",
   "language": "python",
   "name": "python3"
  },
  "language_info": {
   "codemirror_mode": {
    "name": "ipython",
    "version": 3
   },
   "file_extension": ".py",
   "mimetype": "text/x-python",
   "name": "python",
   "nbconvert_exporter": "python",
   "pygments_lexer": "ipython3",
   "version": "3.10.9"
  }
 },
 "nbformat": 4,
 "nbformat_minor": 2
}
