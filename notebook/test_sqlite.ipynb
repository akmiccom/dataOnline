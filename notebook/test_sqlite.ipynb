{
 "cells": [
  {
   "cell_type": "code",
   "execution_count": 1,
   "metadata": {},
   "outputs": [],
   "source": [
    "import sqlite3\n",
    "import pandas as pd\n",
    "from glob import glob"
   ]
  },
  {
   "cell_type": "code",
   "execution_count": 2,
   "metadata": {},
   "outputs": [
    {
     "name": "stdout",
     "output_type": "stream",
     "text": [
      "(0, 'date', 'TEXT', 0, None, 0)\n",
      "(1, 'hall_id', 'INTEGER', 0, None, 0)\n",
      "(2, 'model', 'TEXT', 0, None, 0)\n",
      "(3, 'unit_no', 'INTEGER', 0, None, 0)\n",
      "(4, 'start', 'INTEGER', 0, None, 0)\n",
      "(5, 'bb', 'INTEGER', 0, None, 0)\n",
      "(6, 'rb', 'INTEGER', 0, None, 0)\n",
      "(7, 'art', 'INTEGER', 0, None, 0)\n",
      "(8, 'max_medals', 'INTEGER', 0, None, 0)\n",
      "(9, 'bb_rate', 'TEXT', 0, None, 0)\n",
      "(10, 'rb_rate', 'TEXT', 0, None, 0)\n",
      "(11, 'art_rate', 'TEXT', 0, None, 0)\n",
      "(12, 'total_rate', 'TEXT', 0, None, 0)\n",
      "(13, 'last_start', 'INTEGER', 0, None, 0)\n"
     ]
    }
   ],
   "source": [
    "# データベースに接続（ファイルがなければ作成される）\n",
    "conn = sqlite3.connect(\"../db/pachislo.db\")\n",
    "cursor = conn.cursor()\n",
    "\n",
    "# 2. 新しいテーブル（UNIQUE付き）を作成\n",
    "cursor.execute(\"\"\"\n",
    "CREATE TABLE IF NOT EXISTS slot_data (\n",
    "    date TEXT,\n",
    "    hall_id INTEGER,\n",
    "    model TEXT,\n",
    "    unit_no INTEGER,\n",
    "    start INTEGER,\n",
    "    bb INTEGER,\n",
    "    rb INTEGER,\n",
    "    art INTEGER,\n",
    "    max_medals INTEGER,\n",
    "    bb_rate TEXT,\n",
    "    rb_rate TEXT,\n",
    "    art_rate TEXT,\n",
    "    total_rate TEXT,\n",
    "    last_start INTEGER\n",
    ")\n",
    "\"\"\")\n",
    "\n",
    "conn.commit()\n",
    "\n",
    "for row in conn.execute(\"PRAGMA table_info(slot_data)\"):\n",
    "    print(row)"
   ]
  },
  {
   "cell_type": "code",
   "execution_count": null,
   "metadata": {},
   "outputs": [],
   "source": [
    "csv_list = glob(\"../csv/*.csv\")\n",
    "for csv in csv_list:\n",
    "    date = csv.replace(\"../csv\\\\EXA_FIRST_SﾏｲｼﾞｬｸﾞﾗｰⅤKD_\", \"\").replace(\".csv\", \"\")\n",
    "    df = pd.read_csv(csv)\n",
    "    df[\"date\"] = date\n",
    "    df[\"hall_id\"] = 101262\n",
    "    df[\"model\"] = \"SﾏｲｼﾞｬｸﾞﾗｰⅤKD\"\n",
    "    df_sqlite = df.rename(columns={\n",
    "        \"台番号\": \"unit_no\", \"累計スタート\": \"start\", \"BB回数\": \"bb\", \"RB回数\": \"rb\",\n",
    "        \"ART回数\": \"art\", \"最大持玉\": \"max_medals\", \"BB確率\": \"bb_rate\", \"RB確率\": \"rb_rate\",\n",
    "        \"ART確率\": \"art_rate\", \"合成確率\": \"total_rate\", \"前日最終スタート\": \"last_start\"\n",
    "    })\n",
    "    df_sqlite.to_sql(\"slot_data\", conn, if_exists=\"append\", index=False)"
   ]
  },
  {
   "cell_type": "code",
   "execution_count": 4,
   "metadata": {},
   "outputs": [],
   "source": [
    "# データベースに接続（ファイルがなければ作成される）\n",
    "conn = sqlite3.connect(\"../db/pachislo.db\")\n",
    "cursor = conn.cursor()\n",
    "\n",
    "# データ読み込み\n",
    "query = \"SELECT * FROM slot_data\"\n",
    "df = pd.read_sql(query, conn)\n",
    "\n",
    "conn.close()\n"
   ]
  },
  {
   "cell_type": "code",
   "execution_count": null,
   "metadata": {},
   "outputs": [],
   "source": [
    "df_pivot = df.drop_duplicates(subset=[\"unit_no\", \"date\"])\n",
    "df_pivot = df_pivot.pivot(index=\"unit_no\", columns=\"date\", values=\"total_rate\")"
   ]
  }
 ],
 "metadata": {
  "kernelspec": {
   "display_name": ".venv",
   "language": "python",
   "name": "python3"
  },
  "language_info": {
   "codemirror_mode": {
    "name": "ipython",
    "version": 3
   },
   "file_extension": ".py",
   "mimetype": "text/x-python",
   "name": "python",
   "nbconvert_exporter": "python",
   "pygments_lexer": "ipython3",
   "version": "3.10.9"
  }
 },
 "nbformat": 4,
 "nbformat_minor": 2
}
