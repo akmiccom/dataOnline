{
 "cells": [
  {
   "cell_type": "code",
   "execution_count": null,
   "metadata": {},
   "outputs": [],
   "source": [
    "import sqlite3\n",
    "\n",
    "conn = sqlite3.connect(\"pachislo.db\")\n",
    "cursor = conn.cursor()\n",
    "\n",
    "# ホール追加（IDは自動）\n",
    "cursor.execute(\"INSERT OR IGNORE INTO halls (name) VALUES (?)\", (\"パチンコ楽園 渋谷店\",))\n",
    "\n",
    "# 機種追加（IDは自動）\n",
    "cursor.execute(\"INSERT OR IGNORE INTO models (name) VALUES (?)\", (\"ジャグラー\",))\n",
    "\n",
    "conn.commit()\n",
    "conn.close()\n"
   ]
  }
 ],
 "metadata": {
  "kernelspec": {
   "display_name": ".venv",
   "language": "python",
   "name": "python3"
  },
  "language_info": {
   "name": "python",
   "version": "3.10.9"
  }
 },
 "nbformat": 4,
 "nbformat_minor": 2
}
