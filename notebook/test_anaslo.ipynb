{
 "cells": [
  {
   "cell_type": "code",
   "execution_count": 11,
   "metadata": {},
   "outputs": [],
   "source": [
    "from selenium.webdriver import Chrome, ChromeOptions\n",
    "from selenium.webdriver.chrome.service import Service\n",
    "from selenium.webdriver.common.by import By\n",
    "from selenium.webdriver.common.keys import Keys\n",
    "from selenium.webdriver.support import expected_conditions as EC\n",
    "from selenium.webdriver.support.ui import Select\n",
    "from selenium.webdriver.support.ui import WebDriverWait\n",
    "from webdriver_manager.chrome import ChromeDriverManager\n",
    "from subprocess import Popen\n",
    "from time import sleep\n",
    "import pandas as pd\n",
    "import sqlite3\n",
    "import os"
   ]
  },
  {
   "cell_type": "code",
   "execution_count": 12,
   "metadata": {},
   "outputs": [],
   "source": [
    "def start_google_chrome(url):\n",
    "\n",
    "    # Chrome start by specifying port\n",
    "    chrome_path = r'\"C:\\Program Files\\Google\\Chrome\\Application\\chrome.exe\" -remote-debugging-port=9222 --user-data-dir=\"C:\\temp\"'\n",
    "    Popen(chrome_path)\n",
    "    sleep(1)\n",
    "    # Chrome options\n",
    "    options = ChromeOptions()\n",
    "    options.add_experimental_option(\"debuggerAddress\", \"127.0.0.1:9222\")\n",
    "    # Get chrome with specified port\n",
    "    driver_path = r\"C:\\python\\chromedriver\\chromedriver.exe\"\n",
    "    # driver = Chrome(executable_path=driver_path, options=options)\n",
    "\n",
    "    new_driver = ChromeDriverManager().install()\n",
    "    service = Service(executable_path=new_driver)\n",
    "    driver = Chrome(service=service, options=options)\n",
    "\n",
    "    # open url\n",
    "    driver.get(url)\n",
    "    driver.implicitly_wait(30)\n",
    "    sleep(1)\n",
    "\n",
    "    return driver"
   ]
  },
  {
   "cell_type": "code",
   "execution_count": 13,
   "metadata": {},
   "outputs": [
    {
     "name": "stdout",
     "output_type": "stream",
     "text": [
      "https://ana-slo.com/\n"
     ]
    }
   ],
   "source": [
    "URL = f\"https://ana-slo.com/\"\n",
    "# STORES = {\"EXA FIRST\" : 101262}\n",
    "# hall_id = STORES[\"EXA FIRST\"]\n",
    "\n",
    "url = URL\n",
    "print(url)"
   ]
  },
  {
   "cell_type": "code",
   "execution_count": 14,
   "metadata": {},
   "outputs": [],
   "source": [
    "driver = start_google_chrome(url)"
   ]
  },
  {
   "cell_type": "code",
   "execution_count": 6,
   "metadata": {},
   "outputs": [
    {
     "name": "stdout",
     "output_type": "stream",
     "text": [
      "アナスロ_-_全国パチスロデータ・出玉情報\n"
     ]
    }
   ],
   "source": [
    "\n",
    "store_name = driver.title.replace(\" - 台データオンライン\", \"\")\n",
    "store_name = store_name.replace(\" \", \"_\")\n",
    "print(store_name)"
   ]
  },
  {
   "cell_type": "code",
   "execution_count": 7,
   "metadata": {},
   "outputs": [],
   "source": [
    "pref_list = driver.find_elements(By.CLASS_NAME, \"simple_square_btn\")[:46]\n",
    "pref_id = {}\n",
    "for i, pref in enumerate(pref_list):\n",
    "    pref_id[pref.text] = i"
   ]
  },
  {
   "cell_type": "code",
   "execution_count": 8,
   "metadata": {},
   "outputs": [],
   "source": [
    "pref_list[pref_id[\"埼玉県\"]].click()"
   ]
  },
  {
   "cell_type": "code",
   "execution_count": 37,
   "metadata": {},
   "outputs": [],
   "source": [
    "# 機種名入力\n",
    "search_word = \"パラッツォ川越\"\n",
    "input_box = driver.find_element(By.ID, \"search-text\")\n",
    "if input_box:\n",
    "    input_box.clear()\n",
    "    sleep(0.5)\n",
    "    input_box.send_keys(search_word)"
   ]
  },
  {
   "cell_type": "code",
   "execution_count": null,
   "metadata": {},
   "outputs": [],
   "source": [
    "link = driver.find_element(By.PARTIAL_LINK_TEXT, \"パラッツォ\")\n",
    "link.click()\n",
    "# クリックでブロックされる\n"
   ]
  }
 ],
 "metadata": {
  "kernelspec": {
   "display_name": ".venv",
   "language": "python",
   "name": "python3"
  },
  "language_info": {
   "codemirror_mode": {
    "name": "ipython",
    "version": 3
   },
   "file_extension": ".py",
   "mimetype": "text/x-python",
   "name": "python",
   "nbconvert_exporter": "python",
   "pygments_lexer": "ipython3",
   "version": "3.10.9"
  }
 },
 "nbformat": 4,
 "nbformat_minor": 2
}
