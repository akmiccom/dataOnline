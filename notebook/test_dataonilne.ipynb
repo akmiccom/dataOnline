{
 "cells": [
  {
   "cell_type": "code",
   "execution_count": 21,
   "metadata": {},
   "outputs": [],
   "source": [
    "from selenium.webdriver import Chrome, ChromeOptions\n",
    "from selenium.webdriver.chrome.service import Service\n",
    "from selenium.webdriver.common.by import By\n",
    "from selenium.webdriver.common.keys import Keys\n",
    "from selenium.common.exceptions import NoSuchElementException\n",
    "from selenium.webdriver.support import expected_conditions as EC\n",
    "from selenium.webdriver.support.ui import Select\n",
    "from selenium.webdriver.support.ui import WebDriverWait\n",
    "from webdriver_manager.chrome import ChromeDriverManager\n",
    "from subprocess import Popen\n",
    "from time import sleep\n",
    "import pandas as pd\n",
    "import sqlite3\n",
    "import os"
   ]
  },
  {
   "cell_type": "code",
   "execution_count": 22,
   "metadata": {},
   "outputs": [],
   "source": [
    "def start_google_chrome(url, port=9222, user_data_dir=\"C:/temp\"):\n",
    "    \n",
    "    chrome_path = f'\"C:\\Program Files\\Google\\Chrome\\Application\\chrome.exe\" -remote-debugging-port={port} --user-data-dir=\"{user_data_dir}\"'\n",
    "    Popen(chrome_path)\n",
    "    sleep(1)\n",
    "\n",
    "    options = ChromeOptions()\n",
    "    options.add_experimental_option(\"debuggerAddress\", f\"127.0.0.1:{port}\")\n",
    "\n",
    "    driver = Chrome(service=Service(ChromeDriverManager().install()), options=options)\n",
    "    driver.get(url)\n",
    "    driver.implicitly_wait(10)\n",
    "    \n",
    "    return driver\n"
   ]
  },
  {
   "cell_type": "code",
   "execution_count": 23,
   "metadata": {},
   "outputs": [],
   "source": [
    "def create_table(conn):\n",
    "    cursor = conn.cursor()\n",
    "    cursor.execute(\"\"\"\n",
    "        CREATE TABLE IF NOT EXISTS slot_data (\n",
    "            date TEXT,\n",
    "            hall_id INTEGER,\n",
    "            model TEXT,\n",
    "            unit_no INTEGER,\n",
    "            start INTEGER,\n",
    "            bb INTEGER,\n",
    "            rb INTEGER,\n",
    "            art INTEGER,\n",
    "            max_medals INTEGER,\n",
    "            bb_rate TEXT,\n",
    "            rb_rate TEXT,\n",
    "            art_rate TEXT,\n",
    "            total_rate TEXT,\n",
    "            last_start INTEGER,\n",
    "            UNIQUE(date, unit_no)\n",
    "        )\n",
    "    \"\"\")\n",
    "    conn.commit()"
   ]
  },
  {
   "cell_type": "code",
   "execution_count": 24,
   "metadata": {},
   "outputs": [
    {
     "name": "stdout",
     "output_type": "stream",
     "text": [
      "https://daidata.goraggio.com/101262\n"
     ]
    }
   ],
   "source": [
    "URL = f\"https://daidata.goraggio.com/\"\n",
    "STORES = {\"EXA FIRST\" : 101262}\n",
    "hall_id = STORES[\"EXA FIRST\"]\n",
    "\n",
    "url = URL + str(hall_id)\n",
    "print(url)"
   ]
  },
  {
   "cell_type": "code",
   "execution_count": 25,
   "metadata": {},
   "outputs": [],
   "source": [
    "driver = start_google_chrome(url)"
   ]
  },
  {
   "cell_type": "code",
   "execution_count": 26,
   "metadata": {},
   "outputs": [
    {
     "name": "stdout",
     "output_type": "stream",
     "text": [
      "EXA_FIRST\n"
     ]
    }
   ],
   "source": [
    "\n",
    "store_name = driver.title.replace(\" - 台データオンライン\", \"\")\n",
    "store_name = store_name.replace(\" \", \"_\")\n",
    "print(store_name)"
   ]
  },
  {
   "cell_type": "code",
   "execution_count": 27,
   "metadata": {},
   "outputs": [],
   "source": [
    "# 機種名入力\n",
    "search_word = \"ジャグラー\"\n",
    "input_box = driver.find_element(By.NAME, \"machine_name\")\n",
    "if input_box:\n",
    "    input_box.clear()\n",
    "    sleep(0.5)\n",
    "    input_box.send_keys(search_word, Keys.ENTER)"
   ]
  },
  {
   "cell_type": "code",
   "execution_count": 28,
   "metadata": {},
   "outputs": [],
   "source": [
    "# 広告対策\n",
    "try:\n",
    "    ele = driver.find_element(By.XPATH, '//button[text()=\"close\"]').click()\n",
    "except NoSuchElementException:\n",
    "    pass"
   ]
  },
  {
   "cell_type": "code",
   "execution_count": 29,
   "metadata": {},
   "outputs": [
    {
     "data": {
      "text/plain": [
       "True"
      ]
     },
     "execution_count": 29,
     "metadata": {},
     "output_type": "execute_result"
    }
   ],
   "source": [
    "# 機種名取得して n 番目をクリック\n",
    "n = 0\n",
    "models = driver.find_elements(By.CLASS_NAME, \"model_name\")\n",
    "model_names = [model.text for model in models]\n",
    "model_name = model_names[n].replace(\" \", \"_\")\n",
    "models[n].click()\n",
    "\n",
    "WebDriverWait(driver, 10).until(\n",
    "    EC.invisibility_of_element_located((By.CLASS_NAME, \"table.sorter\"))\n",
    ")"
   ]
  },
  {
   "cell_type": "code",
   "execution_count": 30,
   "metadata": {},
   "outputs": [
    {
     "name": "stdout",
     "output_type": "stream",
     "text": [
      "2025-03-26\n"
     ]
    },
    {
     "data": {
      "text/plain": [
       "True"
      ]
     },
     "execution_count": 30,
     "metadata": {},
     "output_type": "execute_result"
    }
   ],
   "source": [
    "# 日付変更\n",
    "DAYS_AGO = 1\n",
    "select_elem = driver.find_element(By.NAME, \"hist_num\")\n",
    "select = Select(select_elem)\n",
    "dates = [option.text for option in select.options]\n",
    "\n",
    "select.select_by_visible_text(dates[DAYS_AGO])\n",
    "print(dates[DAYS_AGO])\n",
    "\n",
    "WebDriverWait(driver, 10).until(\n",
    "    EC.invisibility_of_element_located((By.CLASS_NAME, \"table.sorter\"))\n",
    ")\n"
   ]
  },
  {
   "cell_type": "code",
   "execution_count": 31,
   "metadata": {},
   "outputs": [
    {
     "name": "stdout",
     "output_type": "stream",
     "text": [
      "81 件のデータ取得完了\n",
      "データ保存完了： ../csv/EXA_FIRST_SﾏｲｼﾞｬｸﾞﾗｰⅤKD_2025-03-26.csv\n"
     ]
    }
   ],
   "source": [
    "# ヘッダー（固定）\n",
    "\n",
    "# データフレーム化・保存\n",
    "file_name = f\"../csv/{store_name}_{model_name}_{dates[DAYS_AGO]}.csv\"\n",
    " \n",
    "if os.path.exists(file_name):\n",
    "    print(f\"データは既に保存されています： {file_name}\")\n",
    "    df = pd.read_csv(file_name)\n",
    "else:\n",
    "    # テーブル取得\n",
    "    rows = driver.find_elements(By.CSS_SELECTOR, 'table tr')\n",
    "    \n",
    "    columns = rows[0].text.split()\n",
    "    data = []\n",
    "    for row in rows[1:]:\n",
    "        cols = row.find_elements(By.TAG_NAME, 'td')\n",
    "        \n",
    "        if cols:\n",
    "            data.append([col.text.strip() for col in cols[1:]])\n",
    "    \n",
    "    print(f\"{len(data)} 件のデータ取得完了\")\n",
    "    \n",
    "    df = pd.DataFrame(data, columns=columns)\n",
    "    df.to_csv(file_name, index=False, encoding=\"utf-8-sig\")\n",
    "    print(f\"データ保存完了： {file_name}\")"
   ]
  },
  {
   "cell_type": "code",
   "execution_count": 32,
   "metadata": {},
   "outputs": [],
   "source": [
    "driver.quit()"
   ]
  },
  {
   "cell_type": "code",
   "execution_count": 33,
   "metadata": {},
   "outputs": [],
   "source": [
    "# データベースに接続（ファイルがなければ作成される）\n",
    "DB_PATH = \"../db/pachislo.db\"\n",
    "conn = sqlite3.connect(DB_PATH)\n",
    "cursor = conn.cursor()\n",
    "conn.commit()\n",
    "\n",
    "# for row in conn.execute(\"PRAGMA table_info(slot_data)\"):\n",
    "#     print(row)"
   ]
  },
  {
   "cell_type": "code",
   "execution_count": 34,
   "metadata": {},
   "outputs": [],
   "source": [
    "df[\"date\"] = dates[DAYS_AGO]\n",
    "df[\"hall_id\"] = hall_id\n",
    "df[\"model\"] = model_name"
   ]
  },
  {
   "cell_type": "code",
   "execution_count": 36,
   "metadata": {},
   "outputs": [
    {
     "data": {
      "text/html": [
       "<div>\n",
       "<style scoped>\n",
       "    .dataframe tbody tr th:only-of-type {\n",
       "        vertical-align: middle;\n",
       "    }\n",
       "\n",
       "    .dataframe tbody tr th {\n",
       "        vertical-align: top;\n",
       "    }\n",
       "\n",
       "    .dataframe thead th {\n",
       "        text-align: right;\n",
       "    }\n",
       "</style>\n",
       "<table border=\"1\" class=\"dataframe\">\n",
       "  <thead>\n",
       "    <tr style=\"text-align: right;\">\n",
       "      <th></th>\n",
       "      <th>date</th>\n",
       "      <th>hall_id</th>\n",
       "      <th>model</th>\n",
       "      <th>unit_no</th>\n",
       "      <th>start</th>\n",
       "      <th>bb</th>\n",
       "      <th>rb</th>\n",
       "      <th>art</th>\n",
       "      <th>max_medals</th>\n",
       "      <th>bb_rate</th>\n",
       "      <th>rb_rate</th>\n",
       "      <th>art_rate</th>\n",
       "      <th>total_rate</th>\n",
       "      <th>last_start</th>\n",
       "    </tr>\n",
       "  </thead>\n",
       "  <tbody>\n",
       "    <tr>\n",
       "      <th>0</th>\n",
       "      <td>2025-03-26</td>\n",
       "      <td>101262</td>\n",
       "      <td>SﾏｲｼﾞｬｸﾞﾗｰⅤKD</td>\n",
       "      <td>1001</td>\n",
       "      <td>4567</td>\n",
       "      <td>10</td>\n",
       "      <td>11</td>\n",
       "      <td>0</td>\n",
       "      <td>933</td>\n",
       "      <td>1/456.7</td>\n",
       "      <td>1/415.2</td>\n",
       "      <td>0.0</td>\n",
       "      <td>217.5</td>\n",
       "      <td>218</td>\n",
       "    </tr>\n",
       "    <tr>\n",
       "      <th>1</th>\n",
       "      <td>2025-03-26</td>\n",
       "      <td>101262</td>\n",
       "      <td>SﾏｲｼﾞｬｸﾞﾗｰⅤKD</td>\n",
       "      <td>1002</td>\n",
       "      <td>2840</td>\n",
       "      <td>6</td>\n",
       "      <td>7</td>\n",
       "      <td>0</td>\n",
       "      <td>478</td>\n",
       "      <td>1/473.3</td>\n",
       "      <td>1/405.7</td>\n",
       "      <td>0.0</td>\n",
       "      <td>218.5</td>\n",
       "      <td>165</td>\n",
       "    </tr>\n",
       "    <tr>\n",
       "      <th>2</th>\n",
       "      <td>2025-03-26</td>\n",
       "      <td>101262</td>\n",
       "      <td>SﾏｲｼﾞｬｸﾞﾗｰⅤKD</td>\n",
       "      <td>1003</td>\n",
       "      <td>7410</td>\n",
       "      <td>29</td>\n",
       "      <td>22</td>\n",
       "      <td>0</td>\n",
       "      <td>2118</td>\n",
       "      <td>1/255.5</td>\n",
       "      <td>1/336.8</td>\n",
       "      <td>0.0</td>\n",
       "      <td>145.3</td>\n",
       "      <td>659</td>\n",
       "    </tr>\n",
       "    <tr>\n",
       "      <th>3</th>\n",
       "      <td>2025-03-26</td>\n",
       "      <td>101262</td>\n",
       "      <td>SﾏｲｼﾞｬｸﾞﾗｰⅤKD</td>\n",
       "      <td>1004</td>\n",
       "      <td>8708</td>\n",
       "      <td>36</td>\n",
       "      <td>27</td>\n",
       "      <td>0</td>\n",
       "      <td>2148</td>\n",
       "      <td>1/241.9</td>\n",
       "      <td>1/322.5</td>\n",
       "      <td>0.0</td>\n",
       "      <td>138.2</td>\n",
       "      <td>161</td>\n",
       "    </tr>\n",
       "    <tr>\n",
       "      <th>4</th>\n",
       "      <td>2025-03-26</td>\n",
       "      <td>101262</td>\n",
       "      <td>SﾏｲｼﾞｬｸﾞﾗｰⅤKD</td>\n",
       "      <td>1005</td>\n",
       "      <td>6933</td>\n",
       "      <td>23</td>\n",
       "      <td>20</td>\n",
       "      <td>0</td>\n",
       "      <td>1279</td>\n",
       "      <td>1/301.4</td>\n",
       "      <td>1/346.7</td>\n",
       "      <td>0.0</td>\n",
       "      <td>161.2</td>\n",
       "      <td>416</td>\n",
       "    </tr>\n",
       "  </tbody>\n",
       "</table>\n",
       "</div>"
      ],
      "text/plain": [
       "         date  hall_id          model unit_no start  bb  rb art max_medals  \\\n",
       "0  2025-03-26   101262  SﾏｲｼﾞｬｸﾞﾗｰⅤKD    1001  4567  10  11   0        933   \n",
       "1  2025-03-26   101262  SﾏｲｼﾞｬｸﾞﾗｰⅤKD    1002  2840   6   7   0        478   \n",
       "2  2025-03-26   101262  SﾏｲｼﾞｬｸﾞﾗｰⅤKD    1003  7410  29  22   0       2118   \n",
       "3  2025-03-26   101262  SﾏｲｼﾞｬｸﾞﾗｰⅤKD    1004  8708  36  27   0       2148   \n",
       "4  2025-03-26   101262  SﾏｲｼﾞｬｸﾞﾗｰⅤKD    1005  6933  23  20   0       1279   \n",
       "\n",
       "   bb_rate  rb_rate art_rate total_rate last_start  \n",
       "0  1/456.7  1/415.2      0.0      217.5        218  \n",
       "1  1/473.3  1/405.7      0.0      218.5        165  \n",
       "2  1/255.5  1/336.8      0.0      145.3        659  \n",
       "3  1/241.9  1/322.5      0.0      138.2        161  \n",
       "4  1/301.4  1/346.7      0.0      161.2        416  "
      ]
     },
     "execution_count": 36,
     "metadata": {},
     "output_type": "execute_result"
    }
   ],
   "source": [
    "df = df.rename(columns={\n",
    "    \"台番号\": \"unit_no\", \"累計スタート\": \"start\", \"BB回数\": \"bb\", \"RB回数\": \"rb\",\n",
    "    \"ART回数\": \"art\", \"最大持玉\": \"max_medals\", \"BB確率\": \"bb_rate\", \"RB確率\": \"rb_rate\",\n",
    "    \"ART確率\": \"art_rate\", \"合成確率\": \"total_rate\", \"前日最終スタート\": \"last_start\"\n",
    "})\n",
    "\n",
    "expected_columns = [\n",
    "    \"date\",\n",
    "    \"hall_id\",\n",
    "    \"model\",\n",
    "    \"unit_no\",\n",
    "    \"start\",\n",
    "    \"bb\",\n",
    "    \"rb\",\n",
    "    \"art\",\n",
    "    \"max_medals\",\n",
    "    \"bb_rate\",\n",
    "    \"rb_rate\",\n",
    "    \"art_rate\",\n",
    "    \"total_rate\",\n",
    "    \"last_start\",\n",
    "]\n",
    "\n",
    "df = df[[col for col in expected_columns if col in df.columns]]\n",
    "\n",
    "df.head()"
   ]
  },
  {
   "cell_type": "code",
   "execution_count": 37,
   "metadata": {},
   "outputs": [],
   "source": [
    "# SQLiteに書き込む\n",
    "conn = sqlite3.connect(DB_PATH)\n",
    "create_table(conn)\n",
    "cursor = conn.cursor()\n",
    "for _, row in df.iterrows():\n",
    "    cursor.execute(\n",
    "        \"\"\"\n",
    "        INSERT OR IGNORE INTO slot_data (\n",
    "            date, hall_id, model, unit_no, start, bb, rb, art,\n",
    "            max_medals, bb_rate, rb_rate, art_rate, total_rate, last_start\n",
    "        ) VALUES (?, ?, ?, ?, ?, ?, ?, ?, ?, ?, ?, ?, ?, ?)\n",
    "    \"\"\",\n",
    "        tuple(row[col] for col in expected_columns),\n",
    "    )\n",
    "conn.commit()\n",
    "conn.close()"
   ]
  },
  {
   "cell_type": "code",
   "execution_count": null,
   "metadata": {},
   "outputs": [],
   "source": []
  }
 ],
 "metadata": {
  "kernelspec": {
   "display_name": ".venv",
   "language": "python",
   "name": "python3"
  },
  "language_info": {
   "codemirror_mode": {
    "name": "ipython",
    "version": 3
   },
   "file_extension": ".py",
   "mimetype": "text/x-python",
   "name": "python",
   "nbconvert_exporter": "python",
   "pygments_lexer": "ipython3",
   "version": "3.10.9"
  }
 },
 "nbformat": 4,
 "nbformat_minor": 2
}
