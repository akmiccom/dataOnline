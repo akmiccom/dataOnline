{
 "cells": [
  {
   "cell_type": "code",
   "execution_count": 8,
   "metadata": {},
   "outputs": [],
   "source": [
    "from selenium.webdriver import Chrome, ChromeOptions\n",
    "from selenium.webdriver.chrome.service import Service\n",
    "from selenium.webdriver.common.by import By\n",
    "from selenium.webdriver.common.keys import Keys\n",
    "from selenium.webdriver.support import expected_conditions as EC\n",
    "from selenium.webdriver.support.ui import Select\n",
    "from selenium.webdriver.support.ui import WebDriverWait\n",
    "from webdriver_manager.chrome import ChromeDriverManager\n",
    "from subprocess import Popen\n",
    "from time import sleep\n",
    "import pandas as pd\n",
    "import sqlite3\n",
    "import os"
   ]
  },
  {
   "cell_type": "code",
   "execution_count": 10,
   "metadata": {},
   "outputs": [],
   "source": [
    "def start_google_chrome(url):\n",
    "\n",
    "    # Chrome start by specifying port\n",
    "    chrome_path = r'\"C:\\Program Files\\Google\\Chrome\\Application\\chrome.exe\" -remote-debugging-port=9222 --user-data-dir=\"C:\\temp\"'\n",
    "    Popen(chrome_path)\n",
    "    sleep(1)\n",
    "    # Chrome options\n",
    "    options = ChromeOptions()\n",
    "    options.add_experimental_option(\"debuggerAddress\", \"127.0.0.1:9222\")\n",
    "    # Get chrome with specified port\n",
    "    # driver_path = r\"C:\\python\\chromedriver\\chromedriver.exe\"\n",
    "    # driver = Chrome(executable_path=driver_path, options=options)\n",
    "\n",
    "    new_driver = ChromeDriverManager().install()\n",
    "    service = Service(executable_path=new_driver)\n",
    "    driver = Chrome(service=service, options=options)\n",
    "\n",
    "    # open url\n",
    "    driver.get(url)\n",
    "    driver.implicitly_wait(30)\n",
    "    sleep(1)\n",
    "\n",
    "    return driver"
   ]
  },
  {
   "cell_type": "code",
   "execution_count": 3,
   "metadata": {},
   "outputs": [
    {
     "name": "stdout",
     "output_type": "stream",
     "text": [
      "https://daidata.goraggio.com/101262\n"
     ]
    }
   ],
   "source": [
    "URL = f\"https://daidata.goraggio.com/\"\n",
    "STORES = {\"EXA FIRST\" : 101262}\n",
    "hall_id = STORES[\"EXA FIRST\"]\n",
    "\n",
    "url = URL + str(hall_id)\n",
    "print(url)"
   ]
  },
  {
   "cell_type": "code",
   "execution_count": 7,
   "metadata": {},
   "outputs": [],
   "source": [
    "driver = start_google_chrome(url)"
   ]
  },
  {
   "cell_type": "code",
   "execution_count": 5,
   "metadata": {},
   "outputs": [
    {
     "name": "stdout",
     "output_type": "stream",
     "text": [
      "EXA_FIRST\n"
     ]
    }
   ],
   "source": [
    "\n",
    "store_name = driver.title.replace(\" - 台データオンライン\", \"\")\n",
    "store_name = store_name.replace(\" \", \"_\")\n",
    "print(store_name)"
   ]
  },
  {
   "cell_type": "code",
   "execution_count": 6,
   "metadata": {},
   "outputs": [],
   "source": [
    "# 機種名入力\n",
    "search_word = \"ジャグラー\"\n",
    "input_box = driver.find_element(By.NAME, \"machine_name\")\n",
    "if input_box:\n",
    "    input_box.clear()\n",
    "    sleep(0.5)\n",
    "    input_box.send_keys(search_word, Keys.ENTER)"
   ]
  },
  {
   "cell_type": "code",
   "execution_count": 178,
   "metadata": {},
   "outputs": [
    {
     "data": {
      "text/plain": [
       "True"
      ]
     },
     "execution_count": 178,
     "metadata": {},
     "output_type": "execute_result"
    }
   ],
   "source": [
    "# 機種名取得してクリック\n",
    "models = driver.find_elements(By.CLASS_NAME, \"model_name\")\n",
    "model_names = [model.text for model in models]\n",
    "model_name = model_names[0].replace(\" \", \"_\")\n",
    "models[0].click()\n",
    "\n",
    "WebDriverWait(driver, 10).until(\n",
    "    EC.invisibility_of_element_located((By.CLASS_NAME, \"table.sorter\"))\n",
    ")"
   ]
  },
  {
   "cell_type": "code",
   "execution_count": 207,
   "metadata": {},
   "outputs": [
    {
     "name": "stdout",
     "output_type": "stream",
     "text": [
      "2025-03-18\n"
     ]
    }
   ],
   "source": [
    "# 日付変更\n",
    "DAYS_AGO = 7\n",
    "select_elem = driver.find_element(By.NAME, \"hist_num\")\n",
    "select = Select(select_elem)\n",
    "dates = [option.text for option in select.options]\n",
    "\n",
    "select.select_by_visible_text(dates[DAYS_AGO])\n",
    "\n",
    "WebDriverWait(driver, 10).until(\n",
    "    EC.invisibility_of_element_located((By.CLASS_NAME, \"table.sorter\"))\n",
    ")\n",
    "\n",
    "print(dates[DAYS_AGO])"
   ]
  },
  {
   "cell_type": "code",
   "execution_count": 208,
   "metadata": {},
   "outputs": [
    {
     "name": "stdout",
     "output_type": "stream",
     "text": [
      "81 件のデータ取得完了\n",
      "データ保存完了： ../csv/EXA_FIRST_SﾏｲｼﾞｬｸﾞﾗｰⅤKD_2025-03-18.csv\n"
     ]
    }
   ],
   "source": [
    "# ヘッダー（固定）\n",
    "\n",
    "# データフレーム化・保存\n",
    "file_name = f\"../csv/{store_name}_{model_name}_{dates[DAYS_AGO]}.csv\"\n",
    " \n",
    "if not os.path.exists(file_name):\n",
    "    # テーブル取得\n",
    "    rows = driver.find_elements(By.CSS_SELECTOR, 'table tr')\n",
    "    \n",
    "    columns = rows[0].text.split()\n",
    "    data = []\n",
    "    for row in rows[1:]:\n",
    "        cols = row.find_elements(By.TAG_NAME, 'td')\n",
    "        \n",
    "        if cols:\n",
    "            data.append([col.text.strip() for col in cols[1:]])\n",
    "    \n",
    "    print(f\"{len(data)} 件のデータ取得完了\")\n",
    "    \n",
    "    df = pd.DataFrame(data, columns=columns)\n",
    "    df.to_csv(file_name, index=False, encoding=\"utf-8-sig\")\n",
    "    print(f\"データ保存完了： {file_name}\")\n",
    "else:\n",
    "    print(f\"データは既に保存されています： {file_name}\")\n",
    "    df = pd.read_csv(file_name)"
   ]
  },
  {
   "cell_type": "code",
   "execution_count": 209,
   "metadata": {},
   "outputs": [],
   "source": [
    "# driver.quit()\n"
   ]
  },
  {
   "cell_type": "code",
   "execution_count": null,
   "metadata": {},
   "outputs": [
    {
     "ename": "NameError",
     "evalue": "name 'sqlite3' is not defined",
     "output_type": "error",
     "traceback": [
      "\u001b[1;31m---------------------------------------------------------------------------\u001b[0m",
      "\u001b[1;31mNameError\u001b[0m                                 Traceback (most recent call last)",
      "Cell \u001b[1;32mIn[1], line 2\u001b[0m\n\u001b[0;32m      1\u001b[0m \u001b[38;5;66;03m# データベースに接続（ファイルがなければ作成される）\u001b[39;00m\n\u001b[1;32m----> 2\u001b[0m conn \u001b[38;5;241m=\u001b[39m \u001b[43msqlite3\u001b[49m\u001b[38;5;241m.\u001b[39mconnect(\u001b[38;5;124m\"\u001b[39m\u001b[38;5;124m../db/pachislo.db\u001b[39m\u001b[38;5;124m\"\u001b[39m)\n\u001b[0;32m      3\u001b[0m cursor \u001b[38;5;241m=\u001b[39m conn\u001b[38;5;241m.\u001b[39mcursor()\n\u001b[0;32m      5\u001b[0m \u001b[38;5;66;03m# 2. 新しいテーブル（UNIQUE付き）を作成\u001b[39;00m\n",
      "\u001b[1;31mNameError\u001b[0m: name 'sqlite3' is not defined"
     ]
    }
   ],
   "source": [
    "# データベースに接続（ファイルがなければ作成される）\n",
    "conn = sqlite3.connect(\"../db/pachislo.db\")\n",
    "cursor = conn.cursor()\n",
    "\n",
    "\n",
    "conn.commit()\n",
    "\n",
    "for row in conn.execute(\"PRAGMA table_info(slot_data)\"):\n",
    "    print(row)"
   ]
  },
  {
   "cell_type": "code",
   "execution_count": 211,
   "metadata": {},
   "outputs": [],
   "source": [
    "df[\"date\"] = dates[DAYS_AGO]\n",
    "df[\"hall_id\"] = hall_id\n",
    "df[\"model\"] = model_name"
   ]
  },
  {
   "cell_type": "code",
   "execution_count": 212,
   "metadata": {},
   "outputs": [
    {
     "data": {
      "text/html": [
       "<div>\n",
       "<style scoped>\n",
       "    .dataframe tbody tr th:only-of-type {\n",
       "        vertical-align: middle;\n",
       "    }\n",
       "\n",
       "    .dataframe tbody tr th {\n",
       "        vertical-align: top;\n",
       "    }\n",
       "\n",
       "    .dataframe thead th {\n",
       "        text-align: right;\n",
       "    }\n",
       "</style>\n",
       "<table border=\"1\" class=\"dataframe\">\n",
       "  <thead>\n",
       "    <tr style=\"text-align: right;\">\n",
       "      <th></th>\n",
       "      <th>unit_no</th>\n",
       "      <th>start</th>\n",
       "      <th>bb</th>\n",
       "      <th>rb</th>\n",
       "      <th>art</th>\n",
       "      <th>max_medals</th>\n",
       "      <th>bb_rate</th>\n",
       "      <th>rb_rate</th>\n",
       "      <th>art_rate</th>\n",
       "      <th>total_rate</th>\n",
       "      <th>last_start</th>\n",
       "      <th>date</th>\n",
       "      <th>hall_id</th>\n",
       "      <th>model</th>\n",
       "    </tr>\n",
       "  </thead>\n",
       "  <tbody>\n",
       "    <tr>\n",
       "      <th>0</th>\n",
       "      <td>1001</td>\n",
       "      <td>4420</td>\n",
       "      <td>13</td>\n",
       "      <td>14</td>\n",
       "      <td>0</td>\n",
       "      <td>1194</td>\n",
       "      <td>1/340.0</td>\n",
       "      <td>1/315.7</td>\n",
       "      <td>0.0</td>\n",
       "      <td>163.7</td>\n",
       "      <td>393</td>\n",
       "      <td>2025-03-18</td>\n",
       "      <td>101262</td>\n",
       "      <td>SﾏｲｼﾞｬｸﾞﾗｰⅤKD</td>\n",
       "    </tr>\n",
       "    <tr>\n",
       "      <th>1</th>\n",
       "      <td>1002</td>\n",
       "      <td>1751</td>\n",
       "      <td>5</td>\n",
       "      <td>4</td>\n",
       "      <td>0</td>\n",
       "      <td>416</td>\n",
       "      <td>1/350.2</td>\n",
       "      <td>1/437.8</td>\n",
       "      <td>0.0</td>\n",
       "      <td>194.6</td>\n",
       "      <td>356</td>\n",
       "      <td>2025-03-18</td>\n",
       "      <td>101262</td>\n",
       "      <td>SﾏｲｼﾞｬｸﾞﾗｰⅤKD</td>\n",
       "    </tr>\n",
       "    <tr>\n",
       "      <th>2</th>\n",
       "      <td>1003</td>\n",
       "      <td>4027</td>\n",
       "      <td>12</td>\n",
       "      <td>11</td>\n",
       "      <td>0</td>\n",
       "      <td>898</td>\n",
       "      <td>1/335.6</td>\n",
       "      <td>1/366.1</td>\n",
       "      <td>0.0</td>\n",
       "      <td>175.1</td>\n",
       "      <td>242</td>\n",
       "      <td>2025-03-18</td>\n",
       "      <td>101262</td>\n",
       "      <td>SﾏｲｼﾞｬｸﾞﾗｰⅤKD</td>\n",
       "    </tr>\n",
       "    <tr>\n",
       "      <th>3</th>\n",
       "      <td>1004</td>\n",
       "      <td>1501</td>\n",
       "      <td>5</td>\n",
       "      <td>3</td>\n",
       "      <td>0</td>\n",
       "      <td>402</td>\n",
       "      <td>1/300.2</td>\n",
       "      <td>1/500.3</td>\n",
       "      <td>0.0</td>\n",
       "      <td>187.6</td>\n",
       "      <td>276</td>\n",
       "      <td>2025-03-18</td>\n",
       "      <td>101262</td>\n",
       "      <td>SﾏｲｼﾞｬｸﾞﾗｰⅤKD</td>\n",
       "    </tr>\n",
       "    <tr>\n",
       "      <th>4</th>\n",
       "      <td>1005</td>\n",
       "      <td>7263</td>\n",
       "      <td>26</td>\n",
       "      <td>21</td>\n",
       "      <td>0</td>\n",
       "      <td>1066</td>\n",
       "      <td>1/279.3</td>\n",
       "      <td>1/345.9</td>\n",
       "      <td>0.0</td>\n",
       "      <td>154.5</td>\n",
       "      <td>54</td>\n",
       "      <td>2025-03-18</td>\n",
       "      <td>101262</td>\n",
       "      <td>SﾏｲｼﾞｬｸﾞﾗｰⅤKD</td>\n",
       "    </tr>\n",
       "  </tbody>\n",
       "</table>\n",
       "</div>"
      ],
      "text/plain": [
       "  unit_no start  bb  rb art max_medals  bb_rate  rb_rate art_rate total_rate  \\\n",
       "0    1001  4420  13  14   0       1194  1/340.0  1/315.7      0.0      163.7   \n",
       "1    1002  1751   5   4   0        416  1/350.2  1/437.8      0.0      194.6   \n",
       "2    1003  4027  12  11   0        898  1/335.6  1/366.1      0.0      175.1   \n",
       "3    1004  1501   5   3   0        402  1/300.2  1/500.3      0.0      187.6   \n",
       "4    1005  7263  26  21   0       1066  1/279.3  1/345.9      0.0      154.5   \n",
       "\n",
       "  last_start        date  hall_id          model  \n",
       "0        393  2025-03-18   101262  SﾏｲｼﾞｬｸﾞﾗｰⅤKD  \n",
       "1        356  2025-03-18   101262  SﾏｲｼﾞｬｸﾞﾗｰⅤKD  \n",
       "2        242  2025-03-18   101262  SﾏｲｼﾞｬｸﾞﾗｰⅤKD  \n",
       "3        276  2025-03-18   101262  SﾏｲｼﾞｬｸﾞﾗｰⅤKD  \n",
       "4         54  2025-03-18   101262  SﾏｲｼﾞｬｸﾞﾗｰⅤKD  "
      ]
     },
     "execution_count": 212,
     "metadata": {},
     "output_type": "execute_result"
    }
   ],
   "source": [
    "df_sqlite = df.rename(columns={\n",
    "    \"台番号\": \"unit_no\", \"累計スタート\": \"start\", \"BB回数\": \"bb\", \"RB回数\": \"rb\",\n",
    "    \"ART回数\": \"art\", \"最大持玉\": \"max_medals\", \"BB確率\": \"bb_rate\", \"RB確率\": \"rb_rate\",\n",
    "    \"ART確率\": \"art_rate\", \"合成確率\": \"total_rate\", \"前日最終スタート\": \"last_start\"\n",
    "})\n",
    "\n",
    "df_sqlite.head()"
   ]
  },
  {
   "cell_type": "code",
   "execution_count": 213,
   "metadata": {},
   "outputs": [],
   "source": [
    "# SQLiteに書き込む\n",
    "df_sqlite.to_sql(\"slot_data\", conn, if_exists=\"append\", index=False)\n",
    "conn.commit()"
   ]
  },
  {
   "cell_type": "code",
   "execution_count": null,
   "metadata": {},
   "outputs": [],
   "source": []
  }
 ],
 "metadata": {
  "kernelspec": {
   "display_name": ".venv",
   "language": "python",
   "name": "python3"
  },
  "language_info": {
   "codemirror_mode": {
    "name": "ipython",
    "version": 3
   },
   "file_extension": ".py",
   "mimetype": "text/x-python",
   "name": "python",
   "nbconvert_exporter": "python",
   "pygments_lexer": "ipython3",
   "version": "3.10.9"
  }
 },
 "nbformat": 4,
 "nbformat_minor": 2
}
