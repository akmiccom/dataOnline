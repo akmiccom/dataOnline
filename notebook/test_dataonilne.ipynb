{
 "cells": [
  {
   "cell_type": "code",
   "execution_count": 37,
   "metadata": {},
   "outputs": [],
   "source": [
    "from selenium.webdriver import Chrome, ChromeOptions\n",
    "from selenium.webdriver.chrome.service import Service\n",
    "from selenium.webdriver.common.by import By\n",
    "from selenium.webdriver.common.keys import Keys\n",
    "from selenium.common.exceptions import NoSuchElementException\n",
    "from selenium.webdriver.support import expected_conditions as EC\n",
    "from selenium.webdriver.support.ui import Select\n",
    "from selenium.webdriver.support.ui import WebDriverWait\n",
    "from webdriver_manager.chrome import ChromeDriverManager\n",
    "from subprocess import Popen\n",
    "from time import sleep\n",
    "import pandas as pd\n",
    "import sqlite3\n",
    "import os"
   ]
  },
  {
   "cell_type": "code",
   "execution_count": 52,
   "metadata": {},
   "outputs": [],
   "source": [
    "def start_google_chrome(url, port=9222, user_data_dir=\"C:/temp\"):\n",
    "    \n",
    "    chrome_path = f'\"C:\\Program Files\\Google\\Chrome\\Application\\chrome.exe\" -remote-debugging-port={port} --user-data-dir=\"{user_data_dir}\"'\n",
    "    Popen(chrome_path)\n",
    "    sleep(1)\n",
    "\n",
    "    options = ChromeOptions()\n",
    "    options.add_experimental_option(\"debuggerAddress\", f\"127.0.0.1:{port}\")\n",
    "\n",
    "    driver = Chrome(service=Service(ChromeDriverManager().install()), options=options)\n",
    "    driver.get(url)\n",
    "    driver.implicitly_wait(10)\n",
    "    \n",
    "    return driver\n"
   ]
  },
  {
   "cell_type": "code",
   "execution_count": 39,
   "metadata": {},
   "outputs": [
    {
     "name": "stdout",
     "output_type": "stream",
     "text": [
      "https://daidata.goraggio.com/101262\n"
     ]
    }
   ],
   "source": [
    "URL = f\"https://daidata.goraggio.com/\"\n",
    "STORES = {\"EXA FIRST\" : 101262}\n",
    "hall_id = STORES[\"EXA FIRST\"]\n",
    "\n",
    "url = URL + str(hall_id)\n",
    "print(url)"
   ]
  },
  {
   "cell_type": "code",
   "execution_count": 40,
   "metadata": {},
   "outputs": [],
   "source": [
    "driver = start_google_chrome(url)"
   ]
  },
  {
   "cell_type": "code",
   "execution_count": 41,
   "metadata": {},
   "outputs": [
    {
     "name": "stdout",
     "output_type": "stream",
     "text": [
      "EXA_FIRST\n"
     ]
    }
   ],
   "source": [
    "\n",
    "store_name = driver.title.replace(\" - 台データオンライン\", \"\")\n",
    "store_name = store_name.replace(\" \", \"_\")\n",
    "print(store_name)"
   ]
  },
  {
   "cell_type": "code",
   "execution_count": 42,
   "metadata": {},
   "outputs": [],
   "source": [
    "# 機種名入力\n",
    "search_word = \"ジャグラー\"\n",
    "input_box = driver.find_element(By.NAME, \"machine_name\")\n",
    "if input_box:\n",
    "    input_box.clear()\n",
    "    sleep(0.5)\n",
    "    input_box.send_keys(search_word, Keys.ENTER)"
   ]
  },
  {
   "cell_type": "code",
   "execution_count": 44,
   "metadata": {},
   "outputs": [],
   "source": [
    "# 広告対策\n",
    "try:\n",
    "    ele = driver.find_element(By.XPATH, '//button[text()=\"close\"]').click()\n",
    "except NoSuchElementException:\n",
    "    pass"
   ]
  },
  {
   "cell_type": "code",
   "execution_count": 45,
   "metadata": {},
   "outputs": [
    {
     "data": {
      "text/plain": [
       "True"
      ]
     },
     "execution_count": 45,
     "metadata": {},
     "output_type": "execute_result"
    }
   ],
   "source": [
    "# 機種名取得して n 番目をクリック\n",
    "n = 0\n",
    "models = driver.find_elements(By.CLASS_NAME, \"model_name\")\n",
    "model_names = [model.text for model in models]\n",
    "model_name = model_names[n].replace(\" \", \"_\")\n",
    "models[n].click()\n",
    "\n",
    "WebDriverWait(driver, 10).until(\n",
    "    EC.invisibility_of_element_located((By.CLASS_NAME, \"table.sorter\"))\n",
    ")"
   ]
  },
  {
   "cell_type": "code",
   "execution_count": 46,
   "metadata": {},
   "outputs": [
    {
     "name": "stdout",
     "output_type": "stream",
     "text": [
      "2025-03-25\n"
     ]
    }
   ],
   "source": [
    "# 日付変更\n",
    "DAYS_AGO = 1\n",
    "select_elem = driver.find_element(By.NAME, \"hist_num\")\n",
    "select = Select(select_elem)\n",
    "dates = [option.text for option in select.options]\n",
    "\n",
    "select.select_by_visible_text(dates[DAYS_AGO])\n",
    "\n",
    "WebDriverWait(driver, 10).until(\n",
    "    EC.invisibility_of_element_located((By.CLASS_NAME, \"table.sorter\"))\n",
    ")\n",
    "\n",
    "print(dates[DAYS_AGO])"
   ]
  },
  {
   "cell_type": "code",
   "execution_count": null,
   "metadata": {},
   "outputs": [
    {
     "name": "stdout",
     "output_type": "stream",
     "text": [
      "81 件のデータ取得完了\n",
      "データ保存完了： ../csv/EXA_FIRST_SﾏｲｼﾞｬｸﾞﾗｰⅤKD_2025-03-25.csv\n"
     ]
    }
   ],
   "source": [
    "# ヘッダー（固定）\n",
    "\n",
    "# データフレーム化・保存\n",
    "file_name = f\"../csv/{store_name}_{model_name}_{dates[DAYS_AGO]}.csv\"\n",
    " \n",
    "if os.path.exists(file_name):\n",
    "    print(f\"データは既に保存されています： {file_name}\")\n",
    "    df = pd.read_csv(file_name)\n",
    "else:\n",
    "    # テーブル取得\n",
    "    rows = driver.find_elements(By.CSS_SELECTOR, 'table tr')\n",
    "    \n",
    "    columns = rows[0].text.split()\n",
    "    data = []\n",
    "    for row in rows[1:]:\n",
    "        cols = row.find_elements(By.TAG_NAME, 'td')\n",
    "        \n",
    "        if cols:\n",
    "            data.append([col.text.strip() for col in cols[1:]])\n",
    "    \n",
    "    print(f\"{len(data)} 件のデータ取得完了\")\n",
    "    \n",
    "    df = pd.DataFrame(data, columns=columns)\n",
    "    df.to_csv(file_name, index=False, encoding=\"utf-8-sig\")\n",
    "    print(f\"データ保存完了： {file_name}\")"
   ]
  },
  {
   "cell_type": "code",
   "execution_count": null,
   "metadata": {},
   "outputs": [],
   "source": [
    "driver.quit()"
   ]
  },
  {
   "cell_type": "code",
   "execution_count": 53,
   "metadata": {},
   "outputs": [],
   "source": [
    "# データベースに接続（ファイルがなければ作成される）\n",
    "conn = sqlite3.connect(\"../db/pachislo.db\")\n",
    "cursor = conn.cursor()\n",
    "conn.commit()\n",
    "\n",
    "# for row in conn.execute(\"PRAGMA table_info(slot_data)\"):\n",
    "#     print(row)"
   ]
  },
  {
   "cell_type": "code",
   "execution_count": 49,
   "metadata": {},
   "outputs": [],
   "source": [
    "df[\"date\"] = dates[DAYS_AGO]\n",
    "df[\"hall_id\"] = hall_id\n",
    "df[\"model\"] = model_name"
   ]
  },
  {
   "cell_type": "code",
   "execution_count": 50,
   "metadata": {},
   "outputs": [
    {
     "data": {
      "text/html": [
       "<div>\n",
       "<style scoped>\n",
       "    .dataframe tbody tr th:only-of-type {\n",
       "        vertical-align: middle;\n",
       "    }\n",
       "\n",
       "    .dataframe tbody tr th {\n",
       "        vertical-align: top;\n",
       "    }\n",
       "\n",
       "    .dataframe thead th {\n",
       "        text-align: right;\n",
       "    }\n",
       "</style>\n",
       "<table border=\"1\" class=\"dataframe\">\n",
       "  <thead>\n",
       "    <tr style=\"text-align: right;\">\n",
       "      <th></th>\n",
       "      <th>unit_no</th>\n",
       "      <th>start</th>\n",
       "      <th>bb</th>\n",
       "      <th>rb</th>\n",
       "      <th>art</th>\n",
       "      <th>max_medals</th>\n",
       "      <th>bb_rate</th>\n",
       "      <th>rb_rate</th>\n",
       "      <th>art_rate</th>\n",
       "      <th>total_rate</th>\n",
       "      <th>last_start</th>\n",
       "      <th>date</th>\n",
       "      <th>hall_id</th>\n",
       "      <th>model</th>\n",
       "    </tr>\n",
       "  </thead>\n",
       "  <tbody>\n",
       "    <tr>\n",
       "      <th>0</th>\n",
       "      <td>1001</td>\n",
       "      <td>7084</td>\n",
       "      <td>30</td>\n",
       "      <td>17</td>\n",
       "      <td>0</td>\n",
       "      <td>1305</td>\n",
       "      <td>1/236.1</td>\n",
       "      <td>1/416.7</td>\n",
       "      <td>0.0</td>\n",
       "      <td>150.7</td>\n",
       "      <td>169</td>\n",
       "      <td>2025-03-25</td>\n",
       "      <td>101262</td>\n",
       "      <td>SﾏｲｼﾞｬｸﾞﾗｰⅤKD</td>\n",
       "    </tr>\n",
       "    <tr>\n",
       "      <th>1</th>\n",
       "      <td>1002</td>\n",
       "      <td>1371</td>\n",
       "      <td>6</td>\n",
       "      <td>1</td>\n",
       "      <td>0</td>\n",
       "      <td>645</td>\n",
       "      <td>1/228.5</td>\n",
       "      <td>1/1371.0</td>\n",
       "      <td>0.0</td>\n",
       "      <td>195.9</td>\n",
       "      <td>324</td>\n",
       "      <td>2025-03-25</td>\n",
       "      <td>101262</td>\n",
       "      <td>SﾏｲｼﾞｬｸﾞﾗｰⅤKD</td>\n",
       "    </tr>\n",
       "    <tr>\n",
       "      <th>2</th>\n",
       "      <td>1003</td>\n",
       "      <td>5424</td>\n",
       "      <td>16</td>\n",
       "      <td>9</td>\n",
       "      <td>0</td>\n",
       "      <td>1348</td>\n",
       "      <td>1/339.0</td>\n",
       "      <td>1/602.7</td>\n",
       "      <td>0.0</td>\n",
       "      <td>217.0</td>\n",
       "      <td>160</td>\n",
       "      <td>2025-03-25</td>\n",
       "      <td>101262</td>\n",
       "      <td>SﾏｲｼﾞｬｸﾞﾗｰⅤKD</td>\n",
       "    </tr>\n",
       "    <tr>\n",
       "      <th>3</th>\n",
       "      <td>1004</td>\n",
       "      <td>6392</td>\n",
       "      <td>26</td>\n",
       "      <td>16</td>\n",
       "      <td>0</td>\n",
       "      <td>1305</td>\n",
       "      <td>1/245.8</td>\n",
       "      <td>1/399.5</td>\n",
       "      <td>0.0</td>\n",
       "      <td>152.2</td>\n",
       "      <td>396</td>\n",
       "      <td>2025-03-25</td>\n",
       "      <td>101262</td>\n",
       "      <td>SﾏｲｼﾞｬｸﾞﾗｰⅤKD</td>\n",
       "    </tr>\n",
       "    <tr>\n",
       "      <th>4</th>\n",
       "      <td>1005</td>\n",
       "      <td>3310</td>\n",
       "      <td>10</td>\n",
       "      <td>4</td>\n",
       "      <td>0</td>\n",
       "      <td>1047</td>\n",
       "      <td>1/331.0</td>\n",
       "      <td>1/827.5</td>\n",
       "      <td>0.0</td>\n",
       "      <td>236.4</td>\n",
       "      <td>279</td>\n",
       "      <td>2025-03-25</td>\n",
       "      <td>101262</td>\n",
       "      <td>SﾏｲｼﾞｬｸﾞﾗｰⅤKD</td>\n",
       "    </tr>\n",
       "  </tbody>\n",
       "</table>\n",
       "</div>"
      ],
      "text/plain": [
       "  unit_no start  bb  rb art max_medals  bb_rate   rb_rate art_rate total_rate  \\\n",
       "0    1001  7084  30  17   0       1305  1/236.1   1/416.7      0.0      150.7   \n",
       "1    1002  1371   6   1   0        645  1/228.5  1/1371.0      0.0      195.9   \n",
       "2    1003  5424  16   9   0       1348  1/339.0   1/602.7      0.0      217.0   \n",
       "3    1004  6392  26  16   0       1305  1/245.8   1/399.5      0.0      152.2   \n",
       "4    1005  3310  10   4   0       1047  1/331.0   1/827.5      0.0      236.4   \n",
       "\n",
       "  last_start        date  hall_id          model  \n",
       "0        169  2025-03-25   101262  SﾏｲｼﾞｬｸﾞﾗｰⅤKD  \n",
       "1        324  2025-03-25   101262  SﾏｲｼﾞｬｸﾞﾗｰⅤKD  \n",
       "2        160  2025-03-25   101262  SﾏｲｼﾞｬｸﾞﾗｰⅤKD  \n",
       "3        396  2025-03-25   101262  SﾏｲｼﾞｬｸﾞﾗｰⅤKD  \n",
       "4        279  2025-03-25   101262  SﾏｲｼﾞｬｸﾞﾗｰⅤKD  "
      ]
     },
     "execution_count": 50,
     "metadata": {},
     "output_type": "execute_result"
    }
   ],
   "source": [
    "df_sqlite = df.rename(columns={\n",
    "    \"台番号\": \"unit_no\", \"累計スタート\": \"start\", \"BB回数\": \"bb\", \"RB回数\": \"rb\",\n",
    "    \"ART回数\": \"art\", \"最大持玉\": \"max_medals\", \"BB確率\": \"bb_rate\", \"RB確率\": \"rb_rate\",\n",
    "    \"ART確率\": \"art_rate\", \"合成確率\": \"total_rate\", \"前日最終スタート\": \"last_start\"\n",
    "})\n",
    "\n",
    "df_sqlite.head()"
   ]
  },
  {
   "cell_type": "code",
   "execution_count": 51,
   "metadata": {},
   "outputs": [],
   "source": [
    "# SQLiteに書き込む\n",
    "df_sqlite.to_sql(\"slot_data\", conn, if_exists=\"append\", index=False)\n",
    "conn.commit()"
   ]
  }
 ],
 "metadata": {
  "kernelspec": {
   "display_name": ".venv",
   "language": "python",
   "name": "python3"
  },
  "language_info": {
   "codemirror_mode": {
    "name": "ipython",
    "version": 3
   },
   "file_extension": ".py",
   "mimetype": "text/x-python",
   "name": "python",
   "nbconvert_exporter": "python",
   "pygments_lexer": "ipython3",
   "version": "3.10.9"
  }
 },
 "nbformat": 4,
 "nbformat_minor": 2
}
