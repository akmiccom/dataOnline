{
 "cells": [
  {
   "cell_type": "code",
   "execution_count": 59,
   "id": "bfcbb33d",
   "metadata": {},
   "outputs": [],
   "source": [
    "from selenium.webdriver.common.by import By\n",
    "from selenium.webdriver.support.ui import WebDriverWait\n",
    "from selenium.webdriver.support import expected_conditions as EC\n",
    "import undetected_chromedriver as uc\n",
    "import pandas as pd\n",
    "import time\n",
    "import base64\n",
    "\n",
    "REMOVE_ADS_SCRIPT = \"\"\"\n",
    "var ads = document.querySelectorAll('[id^=\"google_ads\"], [class*=\"ads\"], [class*=\"sponsored\"]');\n",
    "ads.forEach(ad => ad.remove());\n",
    "\"\"\"\n",
    "\n",
    "\n",
    "def start_google_chrome(url, screen_width=2200, screen_height=1900, implicitly_wait=10):\n",
    "    \"\"\"\n",
    "    Undetected Chrome を起動し、指定URLにアクセス\n",
    "    - ウィンドウを左半分に配置\n",
    "    - 広告対策オプションを追加\n",
    "    :param url: 開くURL\n",
    "    :param screen_width: 画面の横幅 (デフォルト: 2200)\n",
    "    :param screen_height: 画面の高さ (デフォルト: 1900)\n",
    "    :return: WebDriver インスタンス\n",
    "    \"\"\"\n",
    "\n",
    "    # Chromeオプションを設定\n",
    "    options = uc.ChromeOptions()\n",
    "    options.add_argument(\"--no-sandbox\")  # セキュリティサンドボックス無効化\n",
    "    options.add_argument(\"--disable-blink-features=AutomationControlled\")  # ボット検出回避\n",
    "    options.add_argument(\"--disable-extensions\")  # 拡張機能無効化\n",
    "    options.add_argument(\"--disable-popup-blocking\")  # ポップアップブロック無効化\n",
    "    options.add_argument(\"--disable-gpu\")  # GPUレンダリング無効化\n",
    "    options.add_argument(\"--start-maximized\")  # 最大化\n",
    "    options.add_argument(\"--disable-infobars\")  # \"Chromeは自動テスト...\"を非表示\n",
    "    options.add_argument(\"--disable-notifications\")  # 通知をブロック\n",
    "    options.add_argument(\"--remote-debugging-port=9222\")  # デバッグ用ポート\n",
    "    # options.add_argument(\"--force-device-scale-factor=0.90\") # 画面スケール調整\n",
    "\n",
    "\n",
    "    # Chromeドライバーの起動\n",
    "    driver = uc.Chrome(options=options)\n",
    "\n",
    "    # ウィンドウを配置\n",
    "    # driver.set_window_position(0, 0)  # 左上 (0,0) に配置\n",
    "    driver.set_window_size(screen_width // 2, screen_height)  # 画面の半分の幅に設定\n",
    "\n",
    "    # 指定URLを開く\n",
    "    driver.get(url)\n",
    "    # logger.info(f\"✅ Successfully accessed: {url}\")\n",
    "    driver.implicitly_wait(implicitly_wait)  # 最大n秒待機\n",
    "    time.sleep(1)\n",
    "\n",
    "    return driver"
   ]
  },
  {
   "cell_type": "code",
   "execution_count": 31,
   "id": "05eac902",
   "metadata": {},
   "outputs": [],
   "source": [
    "\n",
    "driver = start_google_chrome(\"https://www.google.com/\")"
   ]
  },
  {
   "cell_type": "code",
   "execution_count": 32,
   "id": "e3882bdd",
   "metadata": {},
   "outputs": [],
   "source": [
    "# driver.get(\"https://daidata.goraggio.com/101262\")\n",
    "search_word = \"ジャグラー\"\n",
    "# driver.get(\"https://daidata.goraggio.com/101262/list?mode=modelNameSearch&machine_name=%E3%82%B8%E3%83%A3%E3%82%B0%E3%83%A9%E3%83%BC\")\n",
    "driver.get(f\"https://daidata.goraggio.com/101262/list?mode=modelNameSearch&machine_name={search_word}\")\n",
    "driver.execute_script(REMOVE_ADS_SCRIPT)"
   ]
  },
  {
   "cell_type": "code",
   "execution_count": 33,
   "id": "7f055ecb",
   "metadata": {},
   "outputs": [
    {
     "data": {
      "text/plain": [
       "['https://daidata.goraggio.com/101262/unit_list?model=S%EF%BE%8F%EF%BD%B2%EF%BD%BC%EF%BE%9E%EF%BD%AC%EF%BD%B8%EF%BE%9E%EF%BE%97%EF%BD%B0%E2%85%A4KD&ballPrice=21.74&ps=S',\n",
       " 'https://daidata.goraggio.com/101262/unit_list?model=S%EF%BD%B1%EF%BD%B2%EF%BE%91%EF%BD%BC%EF%BE%9E%EF%BD%AC%EF%BD%B8%EF%BE%9E%EF%BE%97%EF%BD%B0EX-TP&ballPrice=21.74&ps=S',\n",
       " 'https://daidata.goraggio.com/101262/unit_list?model=S%EF%BD%BA%EF%BE%9E%EF%BD%B0%EF%BD%BA%EF%BE%9E%EF%BD%B0%EF%BD%BC%EF%BE%9E%EF%BD%AC%EF%BD%B8%EF%BE%9E%EF%BE%97%EF%BD%B03KA&ballPrice=21.74&ps=S',\n",
       " 'https://daidata.goraggio.com/101262/unit_list?model=S%EF%BE%8C%EF%BD%A7%EF%BE%9D%EF%BD%B7%EF%BD%B0%EF%BD%BC%EF%BE%9E%EF%BD%AC%EF%BD%B8%EF%BE%9E%EF%BE%97%EF%BD%B02KT&ballPrice=21.74&ps=S',\n",
       " 'https://daidata.goraggio.com/101262/unit_list?model=S%EF%BD%B3%EF%BE%99%EF%BE%84%EF%BE%97%EF%BE%90%EF%BE%97%EF%BD%B8%EF%BE%99%EF%BD%BC%EF%BE%9E%EF%BD%AC%EF%BD%B8%EF%BE%9E%EF%BE%97%EF%BD%B0KT&ballPrice=21.74&ps=S',\n",
       " 'https://daidata.goraggio.com/101262/unit_list?model=S%EF%BE%90%EF%BD%BD%EF%BE%80%EF%BD%B0%EF%BD%BC%EF%BE%9E%EF%BD%AC%EF%BD%B8%EF%BE%9E%EF%BE%97%EF%BD%B0KK&ballPrice=21.74&ps=S',\n",
       " 'https://daidata.goraggio.com/101262/unit_list?model=S%EF%BE%8A%EF%BD%AF%EF%BE%8B%EF%BE%9F%EF%BD%B0%EF%BD%BC%EF%BE%9E%EF%BD%AC%EF%BD%B8%EF%BE%9E%EF%BE%97%EF%BD%B0V%20III%20EA&ballPrice=21.74&ps=S',\n",
       " 'https://daidata.goraggio.com/101262/unit_list?model=S%EF%BD%BC%EF%BE%9E%EF%BD%AC%EF%BD%B8%EF%BE%9E%EF%BE%97%EF%BD%B0%EF%BD%B6%EF%BE%9E%EF%BD%B0%EF%BE%99%EF%BD%BD%EF%BE%9ESS-KH&ballPrice=21.74&ps=S']"
      ]
     },
     "execution_count": 33,
     "metadata": {},
     "output_type": "execute_result"
    }
   ],
   "source": [
    "urls = []\n",
    "eles = driver.find_elements(By.CSS_SELECTOR, \"article > section > ul > li > a\")\n",
    "for ele in eles:\n",
    "    # print(ele.get_attribute(\"href\"))\n",
    "    urls.append(ele.get_attribute(\"href\"))\n",
    "urls"
   ]
  },
  {
   "cell_type": "code",
   "execution_count": 39,
   "id": "52e0f961",
   "metadata": {},
   "outputs": [],
   "source": [
    "driver.get(urls[2] + \"&hist_num=1\")\n",
    "driver.execute_script(REMOVE_ADS_SCRIPT)"
   ]
  },
  {
   "cell_type": "code",
   "execution_count": 36,
   "id": "4f6dce77",
   "metadata": {},
   "outputs": [],
   "source": [
    "try:\n",
    "    css = \"div > nav > ul > li.accept_btn > form > button\"\n",
    "    # popup = WebDriverWait(driver, 5).until(\n",
    "    #     EC.presence_of_element_located((By.CSS_SELECTOR, css))\n",
    "    # )\n",
    "    close_button = driver.find_element(By.CSS_SELECTOR, css)\n",
    "    close_button.click()\n",
    "except:\n",
    "    # 要素がなければスキップ（2回目以降）\n",
    "    print(\"ポップアップは表示されませんでした\")"
   ]
  },
  {
   "cell_type": "code",
   "execution_count": 38,
   "id": "c97a9bc6",
   "metadata": {},
   "outputs": [],
   "source": [
    "driver.get(\"https://daidata.goraggio.com/101262/unit_list?ballPrice=21.74&model=S%EF%BD%BA%EF%BE%9E%EF%BD%B0%EF%BD%BA%EF%BE%9E%EF%BD%B0%EF%BD%BC%EF%BE%9E%EF%BD%AC%EF%BD%B8%EF%BE%9E%EF%BE%97%EF%BD%B03KA&ps=S&hist_num=1\")\n",
    "# driver.get(\"https://daidata.goraggio.com/101169/unit_list?ballPrice=21.74&model=S%E3%82%B4%E3%83%BC%E3%82%B4%E3%83%BC%E3%82%B8%E3%83%A3%E3%82%B0%E3%83%A9%E3%83%BC3KA&ps=S&hist_num=1\")\n",
    "driver.execute_script(REMOVE_ADS_SCRIPT)"
   ]
  },
  {
   "cell_type": "code",
   "execution_count": 37,
   "id": "436c67a6",
   "metadata": {},
   "outputs": [],
   "source": [
    "try:\n",
    "    css = \"#gn_ydn_interstitial_btn\"\n",
    "    close_button = driver.find_element(By.CSS_SELECTOR, css)\n",
    "    close_button.click()\n",
    "except:\n",
    "    # 要素がなければスキップ（2回目以降）\n",
    "    print(\"ポップアップは表示されませんでした\")"
   ]
  },
  {
   "cell_type": "code",
   "execution_count": 40,
   "id": "c254ebe6",
   "metadata": {},
   "outputs": [],
   "source": [
    "# ヘッダー取得\n",
    "header_cells = driver.find_element(By.CSS_SELECTOR, \"article > table > thead > tr\")\n",
    "columns = header_cells.text.replace(\" \", \"\").split(\"\\n\")\n",
    "columns\n",
    "data_eles = driver.find_elements(By.CSS_SELECTOR, \"#Prime-Column > article > table > tbody > tr\")\n",
    "data = [ele.text.replace(\"1/\", \"\").split() for ele in data_eles]"
   ]
  },
  {
   "cell_type": "code",
   "execution_count": 41,
   "id": "4faf66af",
   "metadata": {},
   "outputs": [
    {
     "data": {
      "text/plain": [
       "'Sｺﾞｰｺﾞｰｼﾞｬｸﾞﾗｰ3KA'"
      ]
     },
     "execution_count": 41,
     "metadata": {},
     "output_type": "execute_result"
    }
   ],
   "source": [
    "css = \"#slumpTi > h2 > strong:nth-child(1)\"\n",
    "# css = \"#slumpTi > h2 > strong\"\n",
    "model_name = driver.find_element(By.CSS_SELECTOR, css).text\n",
    "model_name"
   ]
  },
  {
   "cell_type": "code",
   "execution_count": 42,
   "id": "12251304",
   "metadata": {},
   "outputs": [
    {
     "data": {
      "text/html": [
       "<div>\n",
       "<style scoped>\n",
       "    .dataframe tbody tr th:only-of-type {\n",
       "        vertical-align: middle;\n",
       "    }\n",
       "\n",
       "    .dataframe tbody tr th {\n",
       "        vertical-align: top;\n",
       "    }\n",
       "\n",
       "    .dataframe thead th {\n",
       "        text-align: right;\n",
       "    }\n",
       "</style>\n",
       "<table border=\"1\" class=\"dataframe\">\n",
       "  <thead>\n",
       "    <tr style=\"text-align: right;\">\n",
       "      <th></th>\n",
       "      <th>台番号</th>\n",
       "      <th>累計スタート</th>\n",
       "      <th>BB回数</th>\n",
       "      <th>RB回数</th>\n",
       "      <th>ART回数</th>\n",
       "      <th>最大持ち玉</th>\n",
       "      <th>BB確率</th>\n",
       "      <th>RB確率</th>\n",
       "      <th>ART確率</th>\n",
       "      <th>合成確率</th>\n",
       "      <th>前日最終スタート</th>\n",
       "      <th>スタート回数</th>\n",
       "      <th>model_name</th>\n",
       "    </tr>\n",
       "  </thead>\n",
       "  <tbody>\n",
       "    <tr>\n",
       "      <th>0</th>\n",
       "      <td>1001</td>\n",
       "      <td>1044</td>\n",
       "      <td>2</td>\n",
       "      <td>2</td>\n",
       "      <td>0</td>\n",
       "      <td>318</td>\n",
       "      <td>522.0</td>\n",
       "      <td>522.0</td>\n",
       "      <td>0.0</td>\n",
       "      <td>261.0</td>\n",
       "      <td>204</td>\n",
       "      <td>568</td>\n",
       "      <td>Sｺﾞｰｺﾞｰｼﾞｬｸﾞﾗｰ3KA</td>\n",
       "    </tr>\n",
       "    <tr>\n",
       "      <th>1</th>\n",
       "      <td>1002</td>\n",
       "      <td>5535</td>\n",
       "      <td>20</td>\n",
       "      <td>24</td>\n",
       "      <td>0</td>\n",
       "      <td>1595</td>\n",
       "      <td>276.8</td>\n",
       "      <td>230.6</td>\n",
       "      <td>0.0</td>\n",
       "      <td>125.8</td>\n",
       "      <td>346</td>\n",
       "      <td>9</td>\n",
       "      <td>Sｺﾞｰｺﾞｰｼﾞｬｸﾞﾗｰ3KA</td>\n",
       "    </tr>\n",
       "    <tr>\n",
       "      <th>2</th>\n",
       "      <td>1003</td>\n",
       "      <td>678</td>\n",
       "      <td>2</td>\n",
       "      <td>2</td>\n",
       "      <td>0</td>\n",
       "      <td>493</td>\n",
       "      <td>339.0</td>\n",
       "      <td>339.0</td>\n",
       "      <td>0.0</td>\n",
       "      <td>169.5</td>\n",
       "      <td>191</td>\n",
       "      <td>213</td>\n",
       "      <td>Sｺﾞｰｺﾞｰｼﾞｬｸﾞﾗｰ3KA</td>\n",
       "    </tr>\n",
       "    <tr>\n",
       "      <th>3</th>\n",
       "      <td>1004</td>\n",
       "      <td>2447</td>\n",
       "      <td>9</td>\n",
       "      <td>6</td>\n",
       "      <td>0</td>\n",
       "      <td>751</td>\n",
       "      <td>271.9</td>\n",
       "      <td>407.8</td>\n",
       "      <td>0.0</td>\n",
       "      <td>163.1</td>\n",
       "      <td>230</td>\n",
       "      <td>484</td>\n",
       "      <td>Sｺﾞｰｺﾞｰｼﾞｬｸﾞﾗｰ3KA</td>\n",
       "    </tr>\n",
       "    <tr>\n",
       "      <th>4</th>\n",
       "      <td>1005</td>\n",
       "      <td>6887</td>\n",
       "      <td>31</td>\n",
       "      <td>29</td>\n",
       "      <td>0</td>\n",
       "      <td>1786</td>\n",
       "      <td>222.2</td>\n",
       "      <td>237.5</td>\n",
       "      <td>0.0</td>\n",
       "      <td>114.8</td>\n",
       "      <td>189</td>\n",
       "      <td>0</td>\n",
       "      <td>Sｺﾞｰｺﾞｰｼﾞｬｸﾞﾗｰ3KA</td>\n",
       "    </tr>\n",
       "  </tbody>\n",
       "</table>\n",
       "</div>"
      ],
      "text/plain": [
       "    台番号 累計スタート BB回数 RB回数 ART回数 最大持ち玉   BB確率   RB確率 ART確率   合成確率 前日最終スタート  \\\n",
       "0  1001   1044    2    2     0   318  522.0  522.0   0.0  261.0      204   \n",
       "1  1002   5535   20   24     0  1595  276.8  230.6   0.0  125.8      346   \n",
       "2  1003    678    2    2     0   493  339.0  339.0   0.0  169.5      191   \n",
       "3  1004   2447    9    6     0   751  271.9  407.8   0.0  163.1      230   \n",
       "4  1005   6887   31   29     0  1786  222.2  237.5   0.0  114.8      189   \n",
       "\n",
       "  スタート回数         model_name  \n",
       "0    568  Sｺﾞｰｺﾞｰｼﾞｬｸﾞﾗｰ3KA  \n",
       "1      9  Sｺﾞｰｺﾞｰｼﾞｬｸﾞﾗｰ3KA  \n",
       "2    213  Sｺﾞｰｺﾞｰｼﾞｬｸﾞﾗｰ3KA  \n",
       "3    484  Sｺﾞｰｺﾞｰｼﾞｬｸﾞﾗｰ3KA  \n",
       "4      0  Sｺﾞｰｺﾞｰｼﾞｬｸﾞﾗｰ3KA  "
      ]
     },
     "execution_count": 42,
     "metadata": {},
     "output_type": "execute_result"
    }
   ],
   "source": [
    "df = pd.DataFrame(data, columns=columns)\n",
    "df[\"model_name\"] = model_name\n",
    "df.head()"
   ]
  },
  {
   "cell_type": "code",
   "execution_count": 43,
   "id": "c1454328",
   "metadata": {},
   "outputs": [
    {
     "data": {
      "text/plain": [
       "['台番号',\n",
       " '累計スタート',\n",
       " 'BB回数',\n",
       " 'RB回数',\n",
       " 'ART回数',\n",
       " '最大持ち玉',\n",
       " 'BB確率',\n",
       " 'RB確率',\n",
       " 'ART確率',\n",
       " '合成確率',\n",
       " '前日最終スタート',\n",
       " 'スタート回数']"
      ]
     },
     "execution_count": 43,
     "metadata": {},
     "output_type": "execute_result"
    }
   ],
   "source": [
    "columns"
   ]
  },
  {
   "cell_type": "code",
   "execution_count": 44,
   "id": "75af0846",
   "metadata": {},
   "outputs": [
    {
     "name": "stdout",
     "output_type": "stream",
     "text": [
      "{'台番号': 'model_name', '累計スタート': 'unit_no', 'BB回数': 'game', 'RB回数': 'BB', 'ART回数': 'RB', '最大持ち玉': 'medals', 'BB確率': 'BB確率', 'RB確率': 'RB確率', 'ART確率': '合成確率'}\n"
     ]
    },
    {
     "data": {
      "text/html": [
       "<div>\n",
       "<style scoped>\n",
       "    .dataframe tbody tr th:only-of-type {\n",
       "        vertical-align: middle;\n",
       "    }\n",
       "\n",
       "    .dataframe tbody tr th {\n",
       "        vertical-align: top;\n",
       "    }\n",
       "\n",
       "    .dataframe thead th {\n",
       "        text-align: right;\n",
       "    }\n",
       "</style>\n",
       "<table border=\"1\" class=\"dataframe\">\n",
       "  <thead>\n",
       "    <tr style=\"text-align: right;\">\n",
       "      <th></th>\n",
       "      <th>model_name</th>\n",
       "      <th>model_name</th>\n",
       "      <th>unit_no</th>\n",
       "      <th>game</th>\n",
       "      <th>BB</th>\n",
       "      <th>RB</th>\n",
       "      <th>medals</th>\n",
       "      <th>BB確率</th>\n",
       "      <th>RB確率</th>\n",
       "      <th>合成確率</th>\n",
       "      <th>合成確率</th>\n",
       "    </tr>\n",
       "  </thead>\n",
       "  <tbody>\n",
       "    <tr>\n",
       "      <th>0</th>\n",
       "      <td>1001</td>\n",
       "      <td>Sｺﾞｰｺﾞｰｼﾞｬｸﾞﾗｰ3KA</td>\n",
       "      <td>1044</td>\n",
       "      <td>2</td>\n",
       "      <td>2</td>\n",
       "      <td>0</td>\n",
       "      <td>318</td>\n",
       "      <td>522.0</td>\n",
       "      <td>522.0</td>\n",
       "      <td>0.0</td>\n",
       "      <td>261.0</td>\n",
       "    </tr>\n",
       "    <tr>\n",
       "      <th>1</th>\n",
       "      <td>1002</td>\n",
       "      <td>Sｺﾞｰｺﾞｰｼﾞｬｸﾞﾗｰ3KA</td>\n",
       "      <td>5535</td>\n",
       "      <td>20</td>\n",
       "      <td>24</td>\n",
       "      <td>0</td>\n",
       "      <td>1595</td>\n",
       "      <td>276.8</td>\n",
       "      <td>230.6</td>\n",
       "      <td>0.0</td>\n",
       "      <td>125.8</td>\n",
       "    </tr>\n",
       "    <tr>\n",
       "      <th>2</th>\n",
       "      <td>1003</td>\n",
       "      <td>Sｺﾞｰｺﾞｰｼﾞｬｸﾞﾗｰ3KA</td>\n",
       "      <td>678</td>\n",
       "      <td>2</td>\n",
       "      <td>2</td>\n",
       "      <td>0</td>\n",
       "      <td>493</td>\n",
       "      <td>339.0</td>\n",
       "      <td>339.0</td>\n",
       "      <td>0.0</td>\n",
       "      <td>169.5</td>\n",
       "    </tr>\n",
       "    <tr>\n",
       "      <th>3</th>\n",
       "      <td>1004</td>\n",
       "      <td>Sｺﾞｰｺﾞｰｼﾞｬｸﾞﾗｰ3KA</td>\n",
       "      <td>2447</td>\n",
       "      <td>9</td>\n",
       "      <td>6</td>\n",
       "      <td>0</td>\n",
       "      <td>751</td>\n",
       "      <td>271.9</td>\n",
       "      <td>407.8</td>\n",
       "      <td>0.0</td>\n",
       "      <td>163.1</td>\n",
       "    </tr>\n",
       "    <tr>\n",
       "      <th>4</th>\n",
       "      <td>1005</td>\n",
       "      <td>Sｺﾞｰｺﾞｰｼﾞｬｸﾞﾗｰ3KA</td>\n",
       "      <td>6887</td>\n",
       "      <td>31</td>\n",
       "      <td>29</td>\n",
       "      <td>0</td>\n",
       "      <td>1786</td>\n",
       "      <td>222.2</td>\n",
       "      <td>237.5</td>\n",
       "      <td>0.0</td>\n",
       "      <td>114.8</td>\n",
       "    </tr>\n",
       "  </tbody>\n",
       "</table>\n",
       "</div>"
      ],
      "text/plain": [
       "  model_name         model_name unit_no game  BB RB medals   BB確率   RB確率 合成確率  \\\n",
       "0       1001  Sｺﾞｰｺﾞｰｼﾞｬｸﾞﾗｰ3KA    1044    2   2  0    318  522.0  522.0  0.0   \n",
       "1       1002  Sｺﾞｰｺﾞｰｼﾞｬｸﾞﾗｰ3KA    5535   20  24  0   1595  276.8  230.6  0.0   \n",
       "2       1003  Sｺﾞｰｺﾞｰｼﾞｬｸﾞﾗｰ3KA     678    2   2  0    493  339.0  339.0  0.0   \n",
       "3       1004  Sｺﾞｰｺﾞｰｼﾞｬｸﾞﾗｰ3KA    2447    9   6  0    751  271.9  407.8  0.0   \n",
       "4       1005  Sｺﾞｰｺﾞｰｼﾞｬｸﾞﾗｰ3KA    6887   31  29  0   1786  222.2  237.5  0.0   \n",
       "\n",
       "    合成確率  \n",
       "0  261.0  \n",
       "1  125.8  \n",
       "2  169.5  \n",
       "3  163.1  \n",
       "4  114.8  "
      ]
     },
     "execution_count": 44,
     "metadata": {},
     "output_type": "execute_result"
    }
   ],
   "source": [
    "# input_columns = [\"model_name\", '台番号','累計スタート','BB回数','RB回数','差玉','BB確率','RB確率','合成確率']\n",
    "db_columns = [\"model_name\", \"unit_no\", \"game\", \"BB\", \"RB\", \"medals\", \"BB確率\", \"RB確率\", \"合成確率\"]\n",
    "rename_dict = dict(zip(columns, db_columns))\n",
    "print(rename_dict)\n",
    "df.rename(columns=rename_dict, inplace=True)\n",
    "df = df[db_columns]\n",
    "df.head()"
   ]
  },
  {
   "cell_type": "code",
   "execution_count": 144,
   "id": "cf0dd535",
   "metadata": {},
   "outputs": [],
   "source": [
    "df.to_csv(\"../anaslo_02\\csv\\data_test.csv\", index=False, encoding=\"utf-8-sig\")"
   ]
  },
  {
   "cell_type": "code",
   "execution_count": 48,
   "id": "836a6568",
   "metadata": {},
   "outputs": [],
   "source": [
    "css = \"#slumpTi > nav > a > span\"\n",
    "display_graph = driver.find_element(By.CSS_SELECTOR, css)\n",
    "display_graph.click()"
   ]
  },
  {
   "cell_type": "code",
   "execution_count": 58,
   "id": "437786a0",
   "metadata": {},
   "outputs": [
    {
     "data": {
      "text/plain": [
       "20"
      ]
     },
     "execution_count": 58,
     "metadata": {},
     "output_type": "execute_result"
    }
   ],
   "source": [
    "css = \"#Prime-Column > article > section > ul > li\"\n",
    "num_graph = driver.find_elements(By.CSS_SELECTOR, css)\n",
    "len(num_graph)"
   ]
  },
  {
   "cell_type": "code",
   "execution_count": null,
   "id": "6f7e3231",
   "metadata": {},
   "outputs": [],
   "source": [
    "\n",
    "n = 2\n",
    "for i in range(len(num_graph)):\n",
    "    if i == n:\n",
    "        break\n",
    "script = f\"\"\"\n",
    "const parent = document.getElementById('DailyCanvas-{n}');\n",
    "const canvases = parent.querySelectorAll('canvas');\n",
    "\n",
    "// 新しい合成用canvasを作成\n",
    "const width = 492;  // 必要に応じて調整\n",
    "const height = 251;\n",
    "const mergedCanvas = document.createElement('canvas');\n",
    "mergedCanvas.width = width;\n",
    "mergedCanvas.height = height;\n",
    "const ctx = mergedCanvas.getContext('2d');\n",
    "\n",
    "// 各canvasを順に合成\n",
    "canvases.forEach(c => ctx.drawImage(c, parseInt(c.style.left || 0), parseInt(c.style.top || 0)));\n",
    "\n",
    "// 画像としてBase64に変換して返す\n",
    "return mergedCanvas.toDataURL('image/png').substring(22);  // プレフィックス削除\n",
    "\"\"\"\n",
    "\n",
    "# JavaScript実行\n",
    "image_base64 = driver.execute_script(script)\n",
    "\n",
    "# Pythonで保存\n",
    "with open(f\"images/canvas{n:02}.png\", \"wb\") as f:\n",
    "    f.write(base64.b64decode(image_base64))"
   ]
  }
 ],
 "metadata": {
  "kernelspec": {
   "display_name": ".venv",
   "language": "python",
   "name": "python3"
  },
  "language_info": {
   "codemirror_mode": {
    "name": "ipython",
    "version": 3
   },
   "file_extension": ".py",
   "mimetype": "text/x-python",
   "name": "python",
   "nbconvert_exporter": "python",
   "pygments_lexer": "ipython3",
   "version": "3.10.9"
  }
 },
 "nbformat": 4,
 "nbformat_minor": 5
}
