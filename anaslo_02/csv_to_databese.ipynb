{
 "cells": [
  {
   "cell_type": "code",
   "execution_count": 16,
   "metadata": {},
   "outputs": [],
   "source": [
    "import pandas as pd\n",
    "import sqlite3\n",
    "import csv\n",
    "import os\n",
    "import re\n",
    "import glob\n",
    "\n",
    "# --- 設定 ---\n",
    "DB_NAME = \"../anaslo_02/anaslo_02.db\"\n",
    "# CSV_FILE = \"..anaslo_02/csv/東京都_EXA_FIRST_2025-04-03.csv\"\n",
    "csv_files = glob.glob(\"../anaslo_02/csv/*_202*.csv\")\n",
    "csv_file = csv_files[0]"
   ]
  },
  {
   "cell_type": "code",
   "execution_count": 17,
   "metadata": {},
   "outputs": [
    {
     "name": "stdout",
     "output_type": "stream",
     "text": [
      "📄 ファイル名から抽出：\n",
      "   都道府県 : 東京都\n",
      "   ホール名 : EXA_FIRST\n",
      "   データ日付 : 2025-04-03\n"
     ]
    }
   ],
   "source": [
    "# --- ファイル名から都道府県・ホール名・日付を取得 ---\n",
    "filename = os.path.basename(csv_file)\n",
    "match = re.match(r\"(.+?)_(.+?)_(\\d{4}-\\d{2}-\\d{2})\\.csv\", filename)\n",
    "if not match:\n",
    "    raise ValueError(\"ファイル名は『都道府県_ホール名_YYYY-MM-DD.csv』の形式である必要があります\")\n",
    "\n",
    "prefecture_name = match.group(1)\n",
    "hall_name = match.group(2)\n",
    "data_date = match.group(3)\n",
    "\n",
    "print(f\"📄 ファイル名から抽出：\")\n",
    "print(f\"   都道府県 : {prefecture_name}\")\n",
    "print(f\"   ホール名 : {hall_name}\")\n",
    "print(f\"   データ日付 : {data_date}\")"
   ]
  },
  {
   "cell_type": "code",
   "execution_count": 19,
   "metadata": {},
   "outputs": [
    {
     "data": {
      "text/html": [
       "<div>\n",
       "<style scoped>\n",
       "    .dataframe tbody tr th:only-of-type {\n",
       "        vertical-align: middle;\n",
       "    }\n",
       "\n",
       "    .dataframe tbody tr th {\n",
       "        vertical-align: top;\n",
       "    }\n",
       "\n",
       "    .dataframe thead th {\n",
       "        text-align: right;\n",
       "    }\n",
       "</style>\n",
       "<table border=\"1\" class=\"dataframe\">\n",
       "  <thead>\n",
       "    <tr style=\"text-align: right;\">\n",
       "      <th></th>\n",
       "      <th>機種名</th>\n",
       "      <th>台番号</th>\n",
       "      <th>G数</th>\n",
       "      <th>差枚</th>\n",
       "      <th>BB</th>\n",
       "      <th>RB</th>\n",
       "      <th>合成確率</th>\n",
       "      <th>BB確率</th>\n",
       "      <th>RB確率</th>\n",
       "    </tr>\n",
       "  </thead>\n",
       "  <tbody>\n",
       "    <tr>\n",
       "      <th>0</th>\n",
       "      <td>マイジャグラーV</td>\n",
       "      <td>1001</td>\n",
       "      <td>3137</td>\n",
       "      <td>-1912</td>\n",
       "      <td>5</td>\n",
       "      <td>4</td>\n",
       "      <td>1/348.6</td>\n",
       "      <td>1/627.4</td>\n",
       "      <td>1/784.2</td>\n",
       "    </tr>\n",
       "    <tr>\n",
       "      <th>1</th>\n",
       "      <td>マイジャグラーV</td>\n",
       "      <td>1002</td>\n",
       "      <td>1315</td>\n",
       "      <td>-909</td>\n",
       "      <td>3</td>\n",
       "      <td>0</td>\n",
       "      <td>1/438.3</td>\n",
       "      <td>1/438.3</td>\n",
       "      <td>1/0.0</td>\n",
       "    </tr>\n",
       "    <tr>\n",
       "      <th>2</th>\n",
       "      <td>マイジャグラーV</td>\n",
       "      <td>1003</td>\n",
       "      <td>2017</td>\n",
       "      <td>-126</td>\n",
       "      <td>7</td>\n",
       "      <td>5</td>\n",
       "      <td>1/168.1</td>\n",
       "      <td>1/288.1</td>\n",
       "      <td>1/403.4</td>\n",
       "    </tr>\n",
       "    <tr>\n",
       "      <th>3</th>\n",
       "      <td>マイジャグラーV</td>\n",
       "      <td>1004</td>\n",
       "      <td>5421</td>\n",
       "      <td>1088</td>\n",
       "      <td>24</td>\n",
       "      <td>14</td>\n",
       "      <td>1/142.7</td>\n",
       "      <td>1/225.9</td>\n",
       "      <td>1/387.2</td>\n",
       "    </tr>\n",
       "    <tr>\n",
       "      <th>4</th>\n",
       "      <td>マイジャグラーV</td>\n",
       "      <td>1005</td>\n",
       "      <td>681</td>\n",
       "      <td>-321</td>\n",
       "      <td>1</td>\n",
       "      <td>1</td>\n",
       "      <td>1/340.5</td>\n",
       "      <td>1/681.0</td>\n",
       "      <td>1/681.0</td>\n",
       "    </tr>\n",
       "  </tbody>\n",
       "</table>\n",
       "</div>"
      ],
      "text/plain": [
       "        機種名   台番号    G数    差枚  BB  RB     合成確率     BB確率     RB確率\n",
       "0  マイジャグラーV  1001  3137 -1912   5   4  1/348.6  1/627.4  1/784.2\n",
       "1  マイジャグラーV  1002  1315  -909   3   0  1/438.3  1/438.3    1/0.0\n",
       "2  マイジャグラーV  1003  2017  -126   7   5  1/168.1  1/288.1  1/403.4\n",
       "3  マイジャグラーV  1004  5421  1088  24  14  1/142.7  1/225.9  1/387.2\n",
       "4  マイジャグラーV  1005   681  -321   1   1  1/340.5  1/681.0  1/681.0"
      ]
     },
     "execution_count": 19,
     "metadata": {},
     "output_type": "execute_result"
    }
   ],
   "source": [
    "# --- CSVを読み込む ---\n",
    "df = pd.read_csv(csv_file)\n",
    "\n",
    "# --- 整形：数値カラムのカンマや + を除去 ---\n",
    "df[\"G数\"] = df[\"G数\"].astype(str).str.replace(\",\", \"\").astype(int)\n",
    "df[\"差枚\"] = (\n",
    "    df[\"差枚\"]\n",
    "    .astype(str)\n",
    "    .str.replace(\",\", \"\")\n",
    "    .str.replace(\"+\", \"\")\n",
    "    .astype(int)\n",
    ")\n",
    "df.head()"
   ]
  },
  {
   "cell_type": "code",
   "execution_count": 11,
   "metadata": {},
   "outputs": [
    {
     "name": "stdout",
     "output_type": "stream",
     "text": [
      "🏢 東京都: 13\n",
      "🏢 EXA_FIRST: 2093\n"
     ]
    }
   ],
   "source": [
    "# --- データベース接続 ---\n",
    "conn = sqlite3.connect(DB_NAME)\n",
    "cursor = conn.cursor()\n",
    "\n",
    "# 都道府県IDの取得 or 登録\n",
    "cursor.execute(\"INSERT OR IGNORE INTO prefectures (name) VALUES (?)\", (prefecture_name,))\n",
    "cursor.execute(\"SELECT prefecture_id FROM prefectures WHERE name = ?\", (prefecture_name,))\n",
    "prefecture_id = cursor.fetchone()[0]\n",
    "\n",
    "# ホールIDの取得 or 登録\n",
    "cursor.execute(\"\"\"\n",
    "    INSERT OR IGNORE INTO halls (name, prefecture_id)\n",
    "    VALUES (?, ?)\n",
    "\"\"\", (hall_name, prefecture_id))\n",
    "cursor.execute(\"\"\"\n",
    "    SELECT hall_id FROM halls\n",
    "    WHERE name = ? AND prefecture_id = ?\n",
    "\"\"\", (hall_name, prefecture_id))\n",
    "hall_id = cursor.fetchone()[0]\n",
    "\n",
    "print(f\"🏢 {prefecture_name}: {prefecture_id}\")\n",
    "print(f\"🏢 {hall_name}: {hall_id}\")"
   ]
  },
  {
   "cell_type": "code",
   "execution_count": 13,
   "metadata": {},
   "outputs": [
    {
     "ename": "KeyError",
     "evalue": "'機種名'",
     "output_type": "error",
     "traceback": [
      "\u001b[1;31m---------------------------------------------------------------------------\u001b[0m",
      "\u001b[1;31mKeyError\u001b[0m                                  Traceback (most recent call last)",
      "Cell \u001b[1;32mIn[13], line 5\u001b[0m\n\u001b[0;32m      3\u001b[0m reader \u001b[38;5;241m=\u001b[39m csv\u001b[38;5;241m.\u001b[39mDictReader(csvfile)\n\u001b[0;32m      4\u001b[0m \u001b[38;5;28;01mfor\u001b[39;00m row \u001b[38;5;129;01min\u001b[39;00m reader:\n\u001b[1;32m----> 5\u001b[0m     model_name \u001b[38;5;241m=\u001b[39m \u001b[43mrow\u001b[49m\u001b[43m[\u001b[49m\u001b[38;5;124;43m\"\u001b[39;49m\u001b[38;5;124;43m機種名\u001b[39;49m\u001b[38;5;124;43m\"\u001b[39;49m\u001b[43m]\u001b[49m\u001b[38;5;241m.\u001b[39mstrip()\n\u001b[0;32m      6\u001b[0m     unit_no \u001b[38;5;241m=\u001b[39m \u001b[38;5;28mint\u001b[39m(row[\u001b[38;5;124m\"\u001b[39m\u001b[38;5;124m台番号\u001b[39m\u001b[38;5;124m\"\u001b[39m])\n\u001b[0;32m      7\u001b[0m     games \u001b[38;5;241m=\u001b[39m \u001b[38;5;28mint\u001b[39m(row[\u001b[38;5;124m\"\u001b[39m\u001b[38;5;124mG数\u001b[39m\u001b[38;5;124m\"\u001b[39m]\u001b[38;5;241m.\u001b[39mreplace(\u001b[38;5;124m\"\u001b[39m\u001b[38;5;124m,\u001b[39m\u001b[38;5;124m\"\u001b[39m, \u001b[38;5;124m\"\u001b[39m\u001b[38;5;124m\"\u001b[39m)\u001b[38;5;241m.\u001b[39mstrip())\n",
      "\u001b[1;31mKeyError\u001b[0m: '機種名'"
     ]
    }
   ],
   "source": [
    "# --- CSV読み込みと登録処理 ---\n",
    "with open(csv_file, newline=\"\", encoding=\"utf-8\") as csvfile:\n",
    "    reader = csv.DictReader(csvfile)\n",
    "    for row in reader:\n",
    "        model_name = row[\"機種名\"].strip()\n",
    "        unit_no = int(row[\"台番号\"])\n",
    "        games = int(row[\"G数\"].replace(\",\", \"\").strip())\n",
    "\n",
    "        # 差枚（+/- の処理含む）\n",
    "        medals_str = row[\"差枚\"].replace(\",\", \"\").replace(\"+\", \"\").strip()\n",
    "        medals = int(medals_str) if medals_str else 0\n",
    "\n",
    "        BB = int(row[\"BB\"])\n",
    "        RB = int(row[\"RB\"])\n",
    "\n",
    "        # 機種IDの取得 or 登録\n",
    "        cursor.execute(\"INSERT OR IGNORE INTO models (name) VALUES (?)\", (model_name,))\n",
    "        cursor.execute(\"SELECT model_id FROM models WHERE name = ?\", (model_name,))\n",
    "        model_id = cursor.fetchone()[0]\n",
    "\n",
    "        # 出玉データ登録\n",
    "        cursor.execute(\"\"\"\n",
    "            INSERT OR IGNORE INTO results (\n",
    "                hall_id, model_id, unit_no, date, start, BB, RB, medals\n",
    "            ) VALUES (?, ?, ?, ?, ?, ?, ?, ?)\n",
    "        \"\"\", (hall_id, model_id, unit_no, data_date, games, BB, RB, medals))\n",
    "\n",
    "# --- コミットと終了 ---\n",
    "conn.commit()\n",
    "conn.close()\n",
    "\n",
    "print(\"✅ 出玉データをデータベースに登録しました。\")\n"
   ]
  }
 ],
 "metadata": {
  "kernelspec": {
   "display_name": ".venv",
   "language": "python",
   "name": "python3"
  },
  "language_info": {
   "codemirror_mode": {
    "name": "ipython",
    "version": 3
   },
   "file_extension": ".py",
   "mimetype": "text/x-python",
   "name": "python",
   "nbconvert_exporter": "python",
   "pygments_lexer": "ipython3",
   "version": "3.10.9"
  }
 },
 "nbformat": 4,
 "nbformat_minor": 2
}
