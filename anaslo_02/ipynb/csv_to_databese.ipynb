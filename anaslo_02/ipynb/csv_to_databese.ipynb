{
 "cells": [
  {
   "cell_type": "code",
   "execution_count": 1,
   "metadata": {},
   "outputs": [],
   "source": [
    "import pandas as pd\n",
    "import sqlite3\n",
    "import os\n",
    "import re\n",
    "import glob"
   ]
  },
  {
   "cell_type": "code",
   "execution_count": 3,
   "metadata": {},
   "outputs": [],
   "source": [
    "# ファイル名から都道府県・ホール名・日付を取得\n",
    "def get_pref_hallName_date(csv_file):\n",
    "    filename = os.path.basename(csv_file)\n",
    "    match = re.match(r\"(.+?)_(.+?)_(\\d{4}-\\d{2}-\\d{2})\\.csv\", filename)\n",
    "    if not match:\n",
    "        raise ValueError(\"ファイル名は『都道府県_ホール名_YYYY-MM-DD.csv』の形式である必要があります\")\n",
    "\n",
    "    prefecture = match.group(1)\n",
    "    hall_name = match.group(2)\n",
    "    date = match.group(3)\n",
    "\n",
    "    print(f\"📄 ファイル名から抽出： {prefecture}, {hall_name}, {date}\")\n",
    "    \n",
    "    return prefecture, hall_name, date"
   ]
  },
  {
   "cell_type": "code",
   "execution_count": 4,
   "metadata": {},
   "outputs": [],
   "source": [
    "# 都道府県とホール名からIDを取得\n",
    "def get_hall_id_from_db(conn, hall_name, prefecture_name=None):\n",
    "    cursor = conn.cursor()\n",
    "    \n",
    "    if prefecture_name:\n",
    "        # 都道府県名からIDを取得\n",
    "        cursor.execute(\"SELECT prefecture_id FROM prefectures WHERE name = ?\", (prefecture_name,))\n",
    "        result = cursor.fetchone()\n",
    "        if not result:\n",
    "            return None\n",
    "        prefecture_id = result[0]\n",
    "        # 都道府県ありの場合のホール検索\n",
    "        cursor.execute(\"\"\"\n",
    "            SELECT hall_id FROM halls\n",
    "            WHERE name = ? AND prefecture_id = ?\n",
    "        \"\"\", (hall_name, prefecture_id))\n",
    "    else:\n",
    "        # 都道府県が指定されない場合（曖昧検索注意）\n",
    "        cursor.execute(\"SELECT hall_id, name FROM halls WHERE name LIKE ?\", ('%' + hall_name + '%',))\n",
    "\n",
    "    \n",
    "    result = cursor.fetchone()\n",
    "    return result[0] if result else None"
   ]
  },
  {
   "cell_type": "code",
   "execution_count": 5,
   "metadata": {},
   "outputs": [],
   "source": [
    "# データベース接続\n",
    "def csv_to_database(cursor, df, hall_id, date):\n",
    "    for _, row in df.iterrows():\n",
    "        model_name = row[\"machine_name\"]\n",
    "        unit_no = int(row[\"unit_no\"])\n",
    "        games = int(row[\"game\"])\n",
    "        medals = int(row[\"medals\"])\n",
    "        BB = int(row[\"BB\"])\n",
    "        RB = int(row[\"RB\"])\n",
    "\n",
    "    # 機種登録＆取得\n",
    "        cursor.execute(\"INSERT OR IGNORE INTO models (name) VALUES (?)\", (model_name,))\n",
    "        cursor.execute(\"SELECT model_id FROM models WHERE name = ?\", (model_name,))\n",
    "        model_id = cursor.fetchone()[0]\n",
    "\n",
    "    # 出玉データを登録（重複回避）\n",
    "        cursor.execute(\"\"\"\n",
    "        INSERT OR IGNORE INTO results (\n",
    "            hall_id, model_id, unit_no, date, game, BB, RB, medals\n",
    "        ) VALUES (?, ?, ?, ?, ?, ?, ?, ?)\n",
    "    \"\"\", (hall_id, model_id, unit_no, date, games, BB, RB, medals))\n",
    "    \n",
    "    print(\"✅ DataFrame の内容を results テーブルに登録しました。\\n\")\n"
   ]
  },
  {
   "cell_type": "code",
   "execution_count": 6,
   "metadata": {},
   "outputs": [
    {
     "name": "stdout",
     "output_type": "stream",
     "text": [
      "📄 ファイル名から抽出： 東京都, EXA FIRST, 2025-03-25\n",
      "✅ DataFrame の内容を results テーブルに登録しました。\n",
      "\n",
      "📄 ファイル名から抽出： 東京都, EXA FIRST, 2025-03-26\n",
      "✅ DataFrame の内容を results テーブルに登録しました。\n",
      "\n",
      "📄 ファイル名から抽出： 東京都, EXA FIRST, 2025-03-27\n",
      "✅ DataFrame の内容を results テーブルに登録しました。\n",
      "\n",
      "📄 ファイル名から抽出： 東京都, EXA FIRST, 2025-03-28\n",
      "✅ DataFrame の内容を results テーブルに登録しました。\n",
      "\n",
      "📄 ファイル名から抽出： 東京都, EXA FIRST, 2025-03-29\n",
      "✅ DataFrame の内容を results テーブルに登録しました。\n",
      "\n",
      "📄 ファイル名から抽出： 東京都, EXA FIRST, 2025-03-30\n",
      "✅ DataFrame の内容を results テーブルに登録しました。\n",
      "\n",
      "📄 ファイル名から抽出： 東京都, EXA FIRST, 2025-03-31\n",
      "✅ DataFrame の内容を results テーブルに登録しました。\n",
      "\n",
      "📄 ファイル名から抽出： 東京都, EXA FIRST, 2025-04-01\n",
      "✅ DataFrame の内容を results テーブルに登録しました。\n",
      "\n",
      "📄 ファイル名から抽出： 東京都, EXA FIRST, 2025-04-02\n",
      "✅ DataFrame の内容を results テーブルに登録しました。\n",
      "\n",
      "📄 ファイル名から抽出： 東京都, EXA FIRST, 2025-04-03\n",
      "✅ DataFrame の内容を results テーブルに登録しました。\n",
      "\n",
      "📄 ファイル名から抽出： 東京都, EXA FIRST, 2025-04-04\n",
      "✅ DataFrame の内容を results テーブルに登録しました。\n",
      "\n",
      "📄 ファイル名から抽出： 東京都, EXA FIRST, 2025-04-05\n",
      "✅ DataFrame の内容を results テーブルに登録しました。\n",
      "\n",
      "📄 ファイル名から抽出： 東京都, EXA FIRST, 2025-04-06\n",
      "✅ DataFrame の内容を results テーブルに登録しました。\n",
      "\n"
     ]
    }
   ],
   "source": [
    "# --- 設定 ---\n",
    "DB_PATH = \"../anaslo_02.db\"\n",
    "csv_files = glob.glob(\"../csv/*.csv\")\n",
    "\n",
    "conn = sqlite3.connect(DB_PATH)\n",
    "cursor = conn.cursor()\n",
    "\n",
    "for csv_file in csv_files:\n",
    "    # CSVファイル名から都道府県・ホール名・日付を取得\n",
    "    prefecture, hall_name, date = get_pref_hallName_date(csv_file)\n",
    "    df = pd.read_csv(csv_file)\n",
    "\n",
    "    hall_id = get_hall_id_from_db(conn, hall_name, prefecture_name=prefecture)\n",
    "    csv_to_database(cursor, df, hall_id, date)\n",
    "\n",
    "conn.commit()\n",
    "conn.close()"
   ]
  },
  {
   "cell_type": "markdown",
   "metadata": {},
   "source": []
  }
 ],
 "metadata": {
  "kernelspec": {
   "display_name": ".venv",
   "language": "python",
   "name": "python3"
  },
  "language_info": {
   "codemirror_mode": {
    "name": "ipython",
    "version": 3
   },
   "file_extension": ".py",
   "mimetype": "text/x-python",
   "name": "python",
   "nbconvert_exporter": "python",
   "pygments_lexer": "ipython3",
   "version": "3.10.9"
  }
 },
 "nbformat": 4,
 "nbformat_minor": 2
}
