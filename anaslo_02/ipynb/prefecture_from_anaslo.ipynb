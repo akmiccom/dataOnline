{
 "cells": [
  {
   "cell_type": "code",
   "execution_count": 1,
   "metadata": {},
   "outputs": [],
   "source": [
    "from start_chrome_driver import start_google_chrome, REMOVE_ADS_SCRIPT\n",
    "from selenium.webdriver.common.by import By\n",
    "from time import sleep\n",
    "import sqlite3"
   ]
  },
  {
   "cell_type": "code",
   "execution_count": 2,
   "metadata": {},
   "outputs": [],
   "source": [
    "DATA = \"ホールデータ\"\n",
    "URL = f\"https://ana-slo.com/{DATA}\"\n",
    "PREF = \"東京都\"\n",
    "\n",
    "DB_NAME = \"../anaslo_02/anaslo_02.db\""
   ]
  },
  {
   "cell_type": "code",
   "execution_count": 3,
   "metadata": {},
   "outputs": [
    {
     "name": "stdout",
     "output_type": "stream",
     "text": [
      "--------------------------------------------------\n",
      "実行成功: https://google.com\n"
     ]
    }
   ],
   "source": [
    "driver = start_google_chrome(\"https://google.com\")\n",
    "driver.get(URL)\n",
    "driver.execute_script(REMOVE_ADS_SCRIPT)\n",
    "pref_ele = driver.find_elements(By.CLASS_NAME, \"pref_list a\")\n"
   ]
  },
  {
   "cell_type": "code",
   "execution_count": 5,
   "metadata": {},
   "outputs": [
    {
     "name": "stdout",
     "output_type": "stream",
     "text": [
      "都道府県: 東京都\n"
     ]
    }
   ],
   "source": [
    "for pref in pref_ele:\n",
    "    if pref.text == PREF:\n",
    "        prefecture_name = pref.text\n",
    "        print(f\"都道府県: {prefecture_name}\")\n",
    "        break\n"
   ]
  },
  {
   "cell_type": "code",
   "execution_count": 6,
   "metadata": {},
   "outputs": [],
   "source": [
    "pref.click()\n",
    "driver.execute_script(REMOVE_ADS_SCRIPT)\n"
   ]
  },
  {
   "cell_type": "code",
   "execution_count": 8,
   "metadata": {},
   "outputs": [
    {
     "name": "stdout",
     "output_type": "stream",
     "text": [
      "都道府県ID: 13\n",
      "ホール数: 349\n",
      "ホールデータを登録しました。\n"
     ]
    }
   ],
   "source": [
    "\n",
    "# データベース登録\n",
    "conn = sqlite3.connect(DB_NAME)\n",
    "cursor = conn.cursor()\n",
    "\n",
    "cursor.execute(\n",
    "    \"SELECT prefecture_id FROM prefectures WHERE name = ?\", (prefecture_name,)\n",
    ")\n",
    "result = cursor.fetchone()\n",
    "if result is None:\n",
    "    print(f\"❌ 都道府県が見つかりません: {prefecture_name}\")\n",
    "\n",
    "prefecture_id = result[0]\n",
    "print(f\"都道府県ID: {prefecture_id}\")\n",
    "\n",
    "hall_ele = driver.find_elements(By.CLASS_NAME, \"table-body a\")\n",
    "for i, h in enumerate(hall_ele):\n",
    "    cursor.execute(\n",
    "        \"\"\"\n",
    "        INSERT OR IGNORE INTO halls (name, prefecture_id)\n",
    "        VALUES (?, ?)\n",
    "        \"\"\",\n",
    "        (h.text.strip(), prefecture_id),\n",
    "    )\n",
    "\n",
    "print(f\"ホール数: {len(hall_ele)}\")\n",
    "print(\"ホールデータを登録しました。\")\n",
    "        \n",
    "conn.commit()\n",
    "conn.close()"
   ]
  },
  {
   "cell_type": "code",
   "execution_count": null,
   "metadata": {},
   "outputs": [],
   "source": []
  }
 ],
 "metadata": {
  "kernelspec": {
   "display_name": ".venv",
   "language": "python",
   "name": "python3"
  },
  "language_info": {
   "codemirror_mode": {
    "name": "ipython",
    "version": 3
   },
   "file_extension": ".py",
   "mimetype": "text/x-python",
   "name": "python",
   "nbconvert_exporter": "python",
   "pygments_lexer": "ipython3",
   "version": "3.10.9"
  }
 },
 "nbformat": 4,
 "nbformat_minor": 2
}
