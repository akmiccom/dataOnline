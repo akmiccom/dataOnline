{
 "cells": [
  {
   "cell_type": "code",
   "execution_count": 17,
   "id": "2695355b",
   "metadata": {},
   "outputs": [],
   "source": [
    "import sqlite3\n",
    "import pandas as pd\n",
    "\n",
    "db_path = r\"C:\\python\\dataOnline\\anaslo_02\\db\\anaslo_02.db\"  # パスを適宜変更\n"
   ]
  },
  {
   "cell_type": "code",
   "execution_count": 18,
   "id": "8ffaf524",
   "metadata": {},
   "outputs": [],
   "source": [
    "# ホール名で検索\n",
    "hall_name = \"EXA FIRST\""
   ]
  },
  {
   "cell_type": "code",
   "execution_count": 19,
   "id": "54bc0627",
   "metadata": {},
   "outputs": [
    {
     "name": "stdout",
     "output_type": "stream",
     "text": [
      "156330 件のデータが削除対象です\n"
     ]
    }
   ],
   "source": [
    "# データ検索\n",
    "conn = sqlite3.connect(db_path)\n",
    "cursor = conn.cursor()\n",
    "\n",
    "cursor.execute(\"\"\"\n",
    "    SELECT * FROM results\n",
    "    WHERE hall_id IN (\n",
    "        SELECT hall_id FROM halls WHERE name = ?\n",
    "    );\n",
    "\"\"\", (hall_name,))\n",
    "rows = cursor.fetchall()\n",
    "print(f\"{len(rows)} 件のデータが削除対象です\")\n"
   ]
  },
  {
   "cell_type": "code",
   "execution_count": 20,
   "id": "16c65737",
   "metadata": {},
   "outputs": [],
   "source": [
    "# ホール名で削除\n",
    "# cursor.execute(\"\"\"\n",
    "#     DELETE FROM results\n",
    "#     WHERE hall_id IN (\n",
    "#         SELECT hall_id FROM halls WHERE name = ?\n",
    "#     );\n",
    "# \"\"\", (hall_name,))\n",
    "# conn.commit()\n",
    "# conn.close()\n"
   ]
  },
  {
   "cell_type": "code",
   "execution_count": 23,
   "id": "ebe7bc48",
   "metadata": {},
   "outputs": [
    {
     "name": "stdout",
     "output_type": "stream",
     "text": [
      "🔍 検索データ数: 25282\n"
     ]
    }
   ],
   "source": [
    "import sqlite3\n",
    "\n",
    "db_path = r\"C:\\python\\dataOnline\\anaslo_02\\db\\anaslo_02.db\"  # パスを適宜変更\n",
    "conn = sqlite3.connect(db_path)\n",
    "cursor = conn.cursor()\n",
    "\n",
    "# 削除対象の hall_id を指定\n",
    "hall_id = 605\n",
    "\n",
    "cursor.execute(\"SELECT COUNT(*) FROM results WHERE hall_id = ?\", (hall_id,))\n",
    "count = cursor.fetchone()[0]\n",
    "print(f\"🔍 検索データ数: {count}\")"
   ]
  },
  {
   "cell_type": "code",
   "execution_count": 22,
   "id": "4a5f2bc5",
   "metadata": {},
   "outputs": [],
   "source": [
    "# cursor.execute(\"DELETE FROM results WHERE hall_id = ?\", (hall_id,))\n",
    "# print(f\"✅ hall_id={hall_id} のデータを削除しました\")\n",
    "\n",
    "conn.commit()\n",
    "conn.close()\n"
   ]
  },
  {
   "cell_type": "code",
   "execution_count": 26,
   "id": "07a3202e",
   "metadata": {},
   "outputs": [
    {
     "name": "stdout",
     "output_type": "stream",
     "text": [
      "(310, 'ミスタージャグラー')\n",
      "(163136, 'SミスタージャグラーKK')\n",
      "(256957, 'S ミスタージャグラー KK')\n",
      "ミスタージャグラー: [(310,)]\n",
      "SミスタージャグラーKK: [(163136,)]\n",
      "S ミスタージャグラー KK: [(256957,)]\n"
     ]
    }
   ],
   "source": [
    "# 既に DB に混在している場合の対応\n",
    "\n",
    "import sqlite3\n",
    "\n",
    "db_path = r\"C:\\python\\dataOnline\\anaslo_02\\db\\anaslo_02.db\"  # パスを適宜変更\n",
    "conn = sqlite3.connect(db_path)\n",
    "cursor = conn.cursor()\n",
    "\n",
    "cursor.execute(\"SELECT model_id, name FROM models WHERE name LIKE '%ミスタージャグラー%'\")\n",
    "for row in cursor.fetchall():\n",
    "    print(row)\n",
    "\n",
    "cursor.execute(\"SELECT model_id FROM models WHERE name = 'ミスタージャグラー'\")\n",
    "print(\"ミスタージャグラー:\", cursor.fetchall())\n",
    "\n",
    "cursor.execute(\"SELECT model_id FROM models WHERE name = 'SミスタージャグラーKK'\")\n",
    "print(\"SミスタージャグラーKK:\", cursor.fetchall())\n",
    "\n",
    "cursor.execute(\"SELECT model_id FROM models WHERE name = 'S ミスタージャグラー KK'\")\n",
    "print(\"S ミスタージャグラー KK:\", cursor.fetchall())\n",
    "\n",
    "cursor.execute(\n",
    "    \"\"\"\n",
    "    UPDATE results\n",
    "    SET model_id = (\n",
    "        SELECT model_id FROM models WHERE name = 'ミスタージャグラー'\n",
    "    )\n",
    "    WHERE model_id IN (\n",
    "        SELECT model_id FROM models WHERE name = 'SミスタージャグラーKK'\n",
    "    );\n",
    "    \"\"\"\n",
    ")\n",
    "\n",
    "cursor.execute(\"DELETE FROM models WHERE name = 'SミスタージャグラーKK'\")\n",
    "cursor.execute(\"DELETE FROM models WHERE name = 'S ミスタージャグラー KK'\")\n",
    "\n",
    "\n",
    "conn.commit()\n",
    "conn.close()"
   ]
  }
 ],
 "metadata": {
  "kernelspec": {
   "display_name": ".venv",
   "language": "python",
   "name": "python3"
  },
  "language_info": {
   "codemirror_mode": {
    "name": "ipython",
    "version": 3
   },
   "file_extension": ".py",
   "mimetype": "text/x-python",
   "name": "python",
   "nbconvert_exporter": "python",
   "pygments_lexer": "ipython3",
   "version": "3.10.9"
  }
 },
 "nbformat": 4,
 "nbformat_minor": 5
}
