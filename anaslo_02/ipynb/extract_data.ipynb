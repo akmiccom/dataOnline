{
 "cells": [
  {
   "cell_type": "code",
   "execution_count": 7,
   "id": "f7fac5c2",
   "metadata": {},
   "outputs": [],
   "source": [
    "from selenium.webdriver.support import expected_conditions as EC\n",
    "import undetected_chromedriver as uc\n",
    "import time\n",
    "\n",
    "REMOVE_ADS_SCRIPT = \"\"\"\n",
    "var ads = document.querySelectorAll('[id^=\"google_ads\"], [class*=\"ads\"], [class*=\"sponsored\"]');\n",
    "ads.forEach(ad => ad.remove());\n",
    "\"\"\"\n",
    "\n",
    "\n",
    "def start_google_chrome(url, screen_width=2200, screen_height=1900, implicitly_wait=10):\n",
    "    \"\"\"\n",
    "    Undetected Chrome を起動し、指定URLにアクセス\n",
    "    - ウィンドウを左半分に配置\n",
    "    - 広告対策オプションを追加\n",
    "    :param url: 開くURL\n",
    "    :param screen_width: 画面の横幅 (デフォルト: 2200)\n",
    "    :param screen_height: 画面の高さ (デフォルト: 1900)\n",
    "    :return: WebDriver インスタンス\n",
    "    \"\"\"\n",
    "\n",
    "    # Chromeオプションを設定\n",
    "    options = uc.ChromeOptions()\n",
    "    options.add_argument(\"--no-sandbox\")  # セキュリティサンドボックス無効化\n",
    "    options.add_argument(\"--disable-blink-features=AutomationControlled\")  # ボット検出回避\n",
    "    options.add_argument(\"--disable-extensions\")  # 拡張機能無効化\n",
    "    options.add_argument(\"--disable-popup-blocking\")  # ポップアップブロック無効化\n",
    "    options.add_argument(\"--disable-gpu\")  # GPUレンダリング無効化\n",
    "    options.add_argument(\"--start-maximized\")  # 最大化\n",
    "    options.add_argument(\"--disable-infobars\")  # \"Chromeは自動テスト...\"を非表示\n",
    "    options.add_argument(\"--disable-notifications\")  # 通知をブロック\n",
    "    options.add_argument(\"--remote-debugging-port=9222\")  # デバッグ用ポート\n",
    "    # options.add_argument(\"--force-device-scale-factor=0.90\") # 画面スケール調整\n",
    "\n",
    "\n",
    "    # Chromeドライバーの起動\n",
    "    driver = uc.Chrome(options=options)\n",
    "\n",
    "    # ウィンドウを配置\n",
    "    driver.set_window_position(0, 0)  # 左上 (0,0) に配置\n",
    "    driver.set_window_size(screen_width // 2, screen_height)  # 画面の半分の幅に設定\n",
    "\n",
    "    # 指定URLを開く\n",
    "    driver.get(url)\n",
    "    driver.implicitly_wait(implicitly_wait)  # 最大n秒待機\n",
    "    time.sleep(1)\n",
    "\n",
    "    return driver"
   ]
  },
  {
   "cell_type": "code",
   "execution_count": 8,
   "id": "29df4836",
   "metadata": {},
   "outputs": [],
   "source": [
    "# テスト用URLを開く\n",
    "test_url = \"https://www.google.com/\"\n",
    "driver = start_google_chrome(test_url)"
   ]
  }
 ],
 "metadata": {
  "kernelspec": {
   "display_name": ".venv",
   "language": "python",
   "name": "python3"
  },
  "language_info": {
   "codemirror_mode": {
    "name": "ipython",
    "version": 3
   },
   "file_extension": ".py",
   "mimetype": "text/x-python",
   "name": "python",
   "nbconvert_exporter": "python",
   "pygments_lexer": "ipython3",
   "version": "3.10.9"
  }
 },
 "nbformat": 4,
 "nbformat_minor": 5
}
