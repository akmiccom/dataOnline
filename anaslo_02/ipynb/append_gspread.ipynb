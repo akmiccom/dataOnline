{
 "cells": [
  {
   "cell_type": "code",
   "execution_count": 6,
   "id": "a222c8f2",
   "metadata": {},
   "outputs": [],
   "source": [
    "import gspread\n",
    "from gspread_dataframe import get_as_dataframe, set_with_dataframe\n",
    "from oauth2client.service_account import ServiceAccountCredentials\n",
    "import pandas as pd\n",
    "import numpy as np"
   ]
  },
  {
   "cell_type": "code",
   "execution_count": 7,
   "id": "772b8724",
   "metadata": {},
   "outputs": [],
   "source": [
    "SPREADSHEET_ID = \"10-B_vV1pvUzXmvGAiHhODGJgCloOsAmqSO9HvXpk_T8\""
   ]
  },
  {
   "cell_type": "code",
   "execution_count": 8,
   "id": "71fa64ad",
   "metadata": {},
   "outputs": [],
   "source": [
    "# スプレッドシート認証設定\n",
    "scope = [\"https://spreadsheets.google.com/feeds\", \"https://www.googleapis.com/auth/drive\"]\n",
    "jsonf = r\"C:\\python\\dataOnline\\anaslo_02\\spreeadsheet-347321-ff675ab5ccbd.json\"\n",
    "creds = ServiceAccountCredentials.from_json_keyfile_name(jsonf, scope)\n",
    "client = gspread.authorize(creds)\n",
    "\n",
    "spreadsheet = client.open_by_key(SPREADSHEET_ID)"
   ]
  },
  {
   "cell_type": "code",
   "execution_count": 9,
   "id": "0f06c16b",
   "metadata": {},
   "outputs": [
    {
     "name": "stdout",
     "output_type": "stream",
     "text": [
      "✅ シート 'DATA' に DataFrame を書き込みました！\n"
     ]
    }
   ],
   "source": [
    "# 書き込むデータ\n",
    "df = pd.read_csv(r\"C:\\python\\dataOnline\\anaslo_02\\out\\EXA FIRST_analysis_data.csv\")\n",
    "df = df.replace([np.inf, -np.inf], np.nan)\n",
    "df = df.fillna(0)\n",
    "df.shape\n",
    "# DataFrame をシートに書き込む\n",
    "sheet_name = \"DATA\"\n",
    "sheet = spreadsheet.worksheet(sheet_name)\n",
    "sheet.clear()\n",
    "set_with_dataframe(sheet, df)\n",
    "print(f\"✅ シート '{sheet_name}' に DataFrame を書き込みました！\")"
   ]
  },
  {
   "cell_type": "code",
   "execution_count": 5,
   "id": "0cc2b3df",
   "metadata": {},
   "outputs": [
    {
     "data": {
      "text/plain": [
       "(7448, 14)"
      ]
     },
     "execution_count": 5,
     "metadata": {},
     "output_type": "execute_result"
    }
   ],
   "source": [
    "df.shape"
   ]
  },
  {
   "cell_type": "code",
   "execution_count": 10,
   "id": "02166e02",
   "metadata": {},
   "outputs": [
    {
     "name": "stdout",
     "output_type": "stream",
     "text": [
      "✅ シート 'DAY' に DataFrame を書き込みました！\n"
     ]
    }
   ],
   "source": [
    "csv_path = r\"C:\\python\\dataOnline\\anaslo_02\\out\\EXA FIRST_マイジャグラーV_medals_by_day.csv\"\n",
    "df = pd.read_csv(csv_path)\n",
    "df = df.replace([np.inf, -np.inf], np.nan)\n",
    "df = df.fillna(0)\n",
    "rows, cols = df.shape\n",
    "\n",
    "sheet_name = \"DAY\"\n",
    "try:\n",
    "    spreadsheet.del_worksheet(spreadsheet.worksheet(sheet_name))\n",
    "except gspread.exceptions.WorksheetNotFound:\n",
    "    pass  # なければ何もしない\n",
    "\n",
    "# 新しいシートを作成（行数・列数は仮で指定）\n",
    "sheet = spreadsheet.add_worksheet(title=sheet_name, rows=rows, cols=cols)\n",
    "sheet.clear()\n",
    "set_with_dataframe(sheet, df)\n",
    "print(f\"✅ シート '{sheet_name}' に DataFrame を書き込みました！\")"
   ]
  },
  {
   "cell_type": "code",
   "execution_count": null,
   "id": "10f55ef3",
   "metadata": {},
   "outputs": [],
   "source": []
  }
 ],
 "metadata": {
  "kernelspec": {
   "display_name": ".venv",
   "language": "python",
   "name": "python3"
  },
  "language_info": {
   "codemirror_mode": {
    "name": "ipython",
    "version": 3
   },
   "file_extension": ".py",
   "mimetype": "text/x-python",
   "name": "python",
   "nbconvert_exporter": "python",
   "pygments_lexer": "ipython3",
   "version": "3.10.9"
  }
 },
 "nbformat": 4,
 "nbformat_minor": 5
}
