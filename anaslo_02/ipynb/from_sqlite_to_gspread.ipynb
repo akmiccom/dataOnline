{
 "cells": [
  {
   "cell_type": "code",
   "execution_count": 1,
   "metadata": {},
   "outputs": [],
   "source": [
    "from gspread_dataframe import get_as_dataframe, set_with_dataframe\n",
    "from oauth2client.service_account import ServiceAccountCredentials\n",
    "import gspread\n",
    "import pandas as pd\n",
    "import numpy as np\n",
    "import sqlite3"
   ]
  },
  {
   "cell_type": "code",
   "execution_count": 17,
   "metadata": {},
   "outputs": [],
   "source": [
    "DB_PATH = \"../anaslo_02/anaslo_02.db\"\n",
    "DB_PATH = r\"C:\\python\\dataOnline\\anaslo_02\\anaslo_02.db\"\n",
    "SPREADSHEET_ID = \"10-B_vV1pvUzXmvGAiHhODGJgCloOsAmqSO9HvXpk_T8\""
   ]
  },
  {
   "cell_type": "code",
   "execution_count": 18,
   "metadata": {},
   "outputs": [],
   "source": [
    "# スプレッドシート認証設定\n",
    "scope = [\"https://spreadsheets.google.com/feeds\", \"https://www.googleapis.com/auth/drive\"]\n",
    "jsonf = r\"C:\\python\\dataOnline\\anaslo_02\\spreeadsheet-347321-ff675ab5ccbd.json\"\n",
    "creds = ServiceAccountCredentials.from_json_keyfile_name(jsonf, scope)\n",
    "client = gspread.authorize(creds)\n",
    "spreadsheet = client.open_by_key(SPREADSHEET_ID)"
   ]
  },
  {
   "cell_type": "code",
   "execution_count": 27,
   "metadata": {},
   "outputs": [],
   "source": [
    "# # Table name 取得\n",
    "# conn = sqlite3.connect(DB_PATH)\n",
    "# cursor = conn.cursor()\n",
    "# cursor.execute(\"SELECT name FROM sqlite_master WHERE type='table' ORDER BY name;\")\n",
    "# tables = cursor.fetchall()\n",
    "# conn.close()\n",
    "\n",
    "# print(tables)"
   ]
  },
  {
   "cell_type": "code",
   "execution_count": 30,
   "metadata": {},
   "outputs": [
    {
     "name": "stdout",
     "output_type": "stream",
     "text": [
      "🔍 'EXA' を含むホール名の検索結果:\n",
      " - hall_name: EXA FIRST, hall_id: 108\n"
     ]
    },
    {
     "data": {
      "text/plain": [
       "(51376, 14)"
      ]
     },
     "execution_count": 30,
     "metadata": {},
     "output_type": "execute_result"
    }
   ],
   "source": [
    "# 検索キーワードよりホール名取得\n",
    "SEARCH_WORD = \"EXA\"\n",
    "\n",
    "conn = sqlite3.connect(DB_PATH)\n",
    "cursor = conn.cursor()\n",
    "cursor.execute(\"SELECT hall_id, name FROM halls WHERE name LIKE ?\", ('%' + SEARCH_WORD + '%',))\n",
    "results = cursor.fetchall()\n",
    "\n",
    "# 結果表示\n",
    "if results:\n",
    "    print(f\"🔍 '{SEARCH_WORD}' を含むホール名の検索結果:\")\n",
    "    for hall_id, hall_name in results:\n",
    "        print(f\" - hall_name: {hall_name}, hall_id: {hall_id}\")\n",
    "else:\n",
    "    print(f\"❌ '{SEARCH_WORD}' を含むホール名は見つかりませんでした。\")\n",
    "    \n",
    "query = \"\"\"\n",
    "-- 出玉データにホール名と機種名を結合して取得\n",
    "SELECT\n",
    "    r.*, \n",
    "    h.name AS hall_name,     -- ホール名を追加\n",
    "    m.name AS model_name     -- 機種名を追加\n",
    "FROM results r\n",
    "JOIN halls h ON r.hall_id = h.hall_id  -- ホールと結合\n",
    "JOIN models m ON r.model_id = m.model_id  -- 機種と結合\n",
    "WHERE h.name = ?  -- 指定ホールのみ\n",
    "  AND m.name LIKE '%ジャグラー%'  -- ジャグラー系機種に限定\n",
    "ORDER BY r.date DESC, r.unit_no ASC;\n",
    "\"\"\"\n",
    "\n",
    "df = pd.read_sql_query(query, conn, params=(hall_name,))\n",
    "df['date'] = pd.to_datetime(df['date'])\n",
    "df.drop(columns=[\"result_id\", \"hall_id\", \"model_id\"], inplace=True)\n",
    "df = df[[\"hall_name\", \"date\", \"model_name\", \"unit_no\", \"game\", \"BB\", \"RB\", \"medals\"]]\n",
    "df[\"BB_rate\"] = (df[\"game\"] / df[\"BB\"]).round(1)\n",
    "df[\"RB_rate\"] = (df[\"game\"] / df[\"RB\"]).round(1)\n",
    "df[\"Total_rate\"] = (df[\"game\"] / (df[\"BB\"] + df[\"RB\"])).round(1)\n",
    "df[\"day\"] = df[\"date\"].dt.day\n",
    "df[\"month\"] = df[\"date\"].dt.month\n",
    "df[\"weekday\"] = df[\"date\"].dt.weekday\n",
    "\n",
    "conn.close()\n",
    "\n",
    "df.shape"
   ]
  },
  {
   "cell_type": "code",
   "execution_count": null,
   "metadata": {},
   "outputs": [],
   "source": [
    "# モデル別日ごと\n",
    "sheet_name = \"DAILY_MODELS\"\n",
    "df_tmp = df.copy()\n",
    "# メダル\n",
    "medals = df_tmp.pivot_table(index=[\"model_name\"], columns=\"day\", values=\"medals\", aggfunc=\"sum\", margins=True, margins_name=\"Total\")\n",
    "medals.columns = pd.MultiIndex.from_product([[\"MEDALS\"], medals.columns])\n",
    "# RB＿RATE\n",
    "game = df_tmp.pivot_table(index=[\"model_name\"], columns=\"day\", values=\"game\", aggfunc=\"sum\", margins=True, margins_name=\"Total\")\n",
    "rb = df_tmp.pivot_table(index=[\"model_name\"], columns=\"day\", values=\"RB\", aggfunc=\"sum\", margins=True, margins_name=\"Total\")\n",
    "rb_rate = (game / rb).round(1)\n",
    "rb_rate.columns = pd.MultiIndex.from_product([[\"RB_RATE\"], rb_rate.columns])\n",
    "rb_rate = rb_rate.replace([np.inf, -np.inf], np.nan)\n",
    "rb_rate = rb_rate.fillna(\"\")\n",
    "# WRITE\n",
    "sheet = spreadsheet.worksheet(sheet_name)\n",
    "sheet.clear()\n",
    "set_with_dataframe(sheet, medals, include_index=True)\n",
    "existing = get_as_dataframe(sheet, evaluate_formulas=True)\n",
    "next_row = len(existing) + 4  # +2: ヘッダー + 次の空行\n",
    "set_with_dataframe(sheet, rb_rate, row=next_row, include_index=True)"
   ]
  },
  {
   "cell_type": "code",
   "execution_count": null,
   "metadata": {},
   "outputs": [
    {
     "data": {
      "text/plain": [
       "(82, 33)"
      ]
     },
     "execution_count": 23,
     "metadata": {},
     "output_type": "execute_result"
    }
   ],
   "source": [
    "# マシン別メダル\n",
    "sheet_name = \"DAILY_UNIT\"\n",
    "MACHINE_NAME = \"マイジャグラーV\"\n",
    "df_tmp = df[df[\"model_name\"] == MACHINE_NAME]\n",
    "# メダル数\n",
    "medals = df_tmp.pivot_table(index=[\"model_name\", \"unit_no\"], columns=\"day\", values=\"medals\", aggfunc=\"sum\", margins=True, margins_name=\"Total\")\n",
    "medals[\"rank\"] = medals[\"Total\"].rank(method=\"min\", ascending=False).astype(int)\n",
    "medals.columns = pd.MultiIndex.from_product([[\"MEDALS\"], medals.columns])\n",
    "medals.shape\n",
    "# RB_rate 作成\n",
    "game = df_tmp.pivot_table(index=[\"model_name\", \"unit_no\"], columns=\"day\", values=\"game\", aggfunc=\"sum\", margins=True, margins_name=\"Total\")\n",
    "rb = df_tmp.pivot_table(index=[\"model_name\", \"unit_no\"], columns=\"day\", values=\"RB\", aggfunc=\"sum\", margins=True, margins_name=\"Total\")\n",
    "rb_rate = (game / rb).round(1)\n",
    "rb_rate[\"rank\"] = rb_rate[\"Total\"].rank(method=\"min\", ascending=True).astype(int)\n",
    "rb_rate.columns = pd.MultiIndex.from_product([[\"RB_RATE\"], rb_rate.columns])\n",
    "rb_rate = rb_rate.replace([np.inf, -np.inf], np.nan)\n",
    "rb_rate = rb_rate.fillna(0)\n",
    "rb_rate.shape\n",
    "\n",
    "spreadsheet = client.open_by_key(SPREADSHEET_ID)\n",
    "sheet = spreadsheet.worksheet(sheet_name)\n",
    "sheet.clear()\n",
    "set_with_dataframe(sheet, medals, include_index=True)\n",
    "existing = get_as_dataframe(sheet, evaluate_formulas=True)\n",
    "next_row = len(existing) + 4  # +2: ヘッダー + 次の空行\n",
    "set_with_dataframe(sheet, rb_rate, row=next_row, include_index=True)\n"
   ]
  },
  {
   "cell_type": "code",
   "execution_count": null,
   "metadata": {},
   "outputs": [
    {
     "name": "stdout",
     "output_type": "stream",
     "text": [
      "(82, 13)\n",
      "(82, 13)\n",
      "(15, 13)\n",
      "(15, 13)\n",
      "(8, 10)\n",
      "(8, 10)\n",
      "(50, 13)\n",
      "(50, 13)\n",
      "(9, 6)\n",
      "(9, 6)\n",
      "(33, 13)\n",
      "(33, 13)\n",
      "(40, 13)\n",
      "(40, 13)\n",
      "(7, 3)\n",
      "(7, 3)\n"
     ]
    }
   ],
   "source": [
    "# 日付指定\n",
    "DAY = 12\n",
    "SPACE_ROW = 2\n",
    "\n",
    "next_row = 1\n",
    "sheet_name = f\"DAY{DAY}\"\n",
    "spreadsheet = client.open_by_key(SPREADSHEET_ID)\n",
    "sheet = spreadsheet.worksheet(sheet_name)\n",
    "sheet.clear()\n",
    "\n",
    "for model in df[\"model_name\"].unique()[:-1]:\n",
    "    \n",
    "    df_tmp = df[(df[\"day\"] == DAY) & (df[\"model_name\"] == model)].copy()\n",
    "    df_tmp[\"date\"] = df_tmp[\"date\"].dt.strftime('%Y-%m-%d')\n",
    "    \n",
    "    # メダル数\n",
    "    medals = df_tmp.pivot_table(index=[\"model_name\", \"unit_no\"], columns=\"date\", values=\"medals\", aggfunc=\"sum\", margins=True, margins_name=\"Total\")\n",
    "    medals[\"rank\"] = medals[\"Total\"].rank(method=\"min\", ascending=False).astype(int)\n",
    "    medals.columns = pd.MultiIndex.from_product([[\"MEDALS\"], medals.columns])\n",
    "    print(f\"{model}_{medals.shape}\")\n",
    "\n",
    "    # RB_RATE\n",
    "    game = df_tmp.pivot_table(index=[\"model_name\", \"unit_no\"], columns=\"date\", values=\"game\", aggfunc=\"sum\", margins=True, margins_name=\"Total\")\n",
    "    rb = df_tmp.pivot_table(index=[\"model_name\", \"unit_no\"], columns=\"date\", values=\"RB\", aggfunc=\"sum\", margins=True, margins_name=\"Total\")\n",
    "    rb_rate = (game / rb).round(1)\n",
    "    rb_rate[\"rank\"] = rb_rate[\"Total\"].rank(method=\"min\", ascending=True).astype(int)\n",
    "    rb_rate.columns = pd.MultiIndex.from_product([[\"RB_RATE\"], rb_rate.columns])\n",
    "    rb_rate = rb_rate.replace([np.inf, -np.inf], np.nan)\n",
    "    rb_rate = rb_rate.fillna(0)\n",
    "    print(f\"{model}_{rb_rate.shape}\")\n",
    "    \n",
    "    # スプレッドシート追記\n",
    "    sheet_name = f\"DAY{DAY}\"\n",
    "    set_with_dataframe(sheet, medals, row=next_row, include_index=True)\n",
    "    existing = get_as_dataframe(sheet, evaluate_formulas=True)\n",
    "    next_row += (medals.shape[0] + SPACE_ROW+3)  # 追記行\n",
    "    set_with_dataframe(sheet, rb_rate, row=next_row, include_index=True)\n",
    "    existing = get_as_dataframe(sheet, evaluate_formulas=True)\n",
    "    next_row += (medals.shape[0] + SPACE_ROW+3)  # 追記行"
   ]
  },
  {
   "cell_type": "code",
   "execution_count": null,
   "metadata": {},
   "outputs": [],
   "source": []
  }
 ],
 "metadata": {
  "kernelspec": {
   "display_name": ".venv",
   "language": "python",
   "name": "python3"
  },
  "language_info": {
   "codemirror_mode": {
    "name": "ipython",
    "version": 3
   },
   "file_extension": ".py",
   "mimetype": "text/x-python",
   "name": "python",
   "nbconvert_exporter": "python",
   "pygments_lexer": "ipython3",
   "version": "3.10.9"
  }
 },
 "nbformat": 4,
 "nbformat_minor": 2
}
